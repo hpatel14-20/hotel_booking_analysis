{
 "cells": [
  {
   "cell_type": "code",
   "execution_count": 62,
   "metadata": {},
   "outputs": [
    {
     "data": {
      "text/plain": [
       "Index(['hotel', 'is_canceled', 'lead_time', 'arrival_date_year',\n",
       "       'arrival_date_month', 'arrival_date_week_number',\n",
       "       'arrival_date_day_of_month', 'stays_in_weekend_nights',\n",
       "       'stays_in_week_nights', 'adults', 'children', 'babies', 'meal',\n",
       "       'country', 'market_segment', 'distribution_channel',\n",
       "       'is_repeated_guest', 'previous_cancellations',\n",
       "       'previous_bookings_not_canceled', 'reserved_room_type',\n",
       "       'assigned_room_type', 'booking_changes', 'deposit_type', 'agent',\n",
       "       'company', 'days_in_waiting_list', 'customer_type', 'adr',\n",
       "       'required_car_parking_spaces', 'total_of_special_requests',\n",
       "       'reservation_status', 'reservation_status_date'],\n",
       "      dtype='object')"
      ]
     },
     "execution_count": 62,
     "metadata": {},
     "output_type": "execute_result"
    }
   ],
   "source": [
    "import pandas as pd\n",
    "import numpy as np\n",
    "df = pd.read_csv('hotel_bookings.csv')\n",
    "df.columns"
   ]
  },
  {
   "cell_type": "code",
   "execution_count": 63,
   "metadata": {},
   "outputs": [
    {
     "data": {
      "text/plain": [
       "dtype('<M8[ns]')"
      ]
     },
     "execution_count": 63,
     "metadata": {},
     "output_type": "execute_result"
    }
   ],
   "source": [
    "#combining date columns into a single pandas date time format \n",
    "df['date'] =pd.to_datetime(df.arrival_date_year.astype(str) + df.arrival_date_month.astype(str) + df.arrival_date_day_of_month.astype(str), format='%Y%B%d')\n",
    "df['date'].dtype #data frame now contains a pandas date time format date column"
   ]
  },
  {
   "cell_type": "code",
   "execution_count": 64,
   "metadata": {},
   "outputs": [],
   "source": [
    "#dropping all irrelevant variables \n",
    "df = df.drop(['hotel','arrival_date_year',\n",
    "       'arrival_date_month', 'arrival_date_week_number',\n",
    "       'arrival_date_day_of_month', 'stays_in_weekend_nights',\n",
    "       'stays_in_week_nights', 'adults', 'children', 'babies', 'meal',\n",
    "       'country', 'market_segment', 'distribution_channel',\n",
    "       'is_repeated_guest', 'previous_cancellations',\n",
    "       'previous_bookings_not_canceled', 'reserved_room_type',\n",
    "       'assigned_room_type', 'booking_changes', 'deposit_type', 'agent',\n",
    "       'company', 'days_in_waiting_list', 'customer_type', 'adr',\n",
    "       'required_car_parking_spaces', 'total_of_special_requests',\n",
    "       'reservation_status', 'reservation_status_date'], axis=1)"
   ]
  },
  {
   "cell_type": "markdown",
   "metadata": {},
   "source": [
    "# Extracting 2017 Observations"
   ]
  },
  {
   "cell_type": "code",
   "execution_count": 65,
   "metadata": {},
   "outputs": [
    {
     "data": {
      "text/plain": [
       "is_canceled    40687\n",
       "lead_time      40687\n",
       "date           40687\n",
       "dtype: int64"
      ]
     },
     "execution_count": 65,
     "metadata": {},
     "output_type": "execute_result"
    }
   ],
   "source": [
    "#we only want dates past start of 2017\n",
    "df = df.loc[(df['date'] >= '2017-01-01')& (df['date'] <= '2017-12-31')]\n",
    "df.count()"
   ]
  },
  {
   "cell_type": "markdown",
   "metadata": {},
   "source": [
    "# Randomly Selecting Observations (10% of data)"
   ]
  },
  {
   "cell_type": "code",
   "execution_count": 66,
   "metadata": {},
   "outputs": [],
   "source": [
    "### extract a random sample of 4068 for a two sample Mann Whitney U test test for comapring medians\n",
    "df = df.sample(n=4068)"
   ]
  },
  {
   "cell_type": "markdown",
   "metadata": {},
   "source": [
    "Below, we see our lead time sample is highly skewed for canceled bookings"
   ]
  },
  {
   "cell_type": "code",
   "execution_count": 67,
   "metadata": {},
   "outputs": [
    {
     "name": "stdout",
     "output_type": "stream",
     "text": [
      "Canceled bookings skewness: 1.402113537534637\n"
     ]
    },
    {
     "data": {
      "text/plain": [
       "<AxesSubplot:>"
      ]
     },
     "execution_count": 67,
     "metadata": {},
     "output_type": "execute_result"
    },
    {
     "data": {
      "image/png": "[encoded data removed]",
      "text/plain": [
       "<Figure size 432x288 with 1 Axes>"
      ]
     },
     "metadata": {
      "needs_background": "light"
     },
     "output_type": "display_data"
    }
   ],
   "source": [
    "#check for outliers/skewness in our dataset for canceled bookings\n",
    "print('Canceled bookings skewness:', df[df.is_canceled==1].lead_time.skew())\n",
    "df[df.is_canceled==1].lead_time.hist()"
   ]
  },
  {
   "cell_type": "markdown",
   "metadata": {},
   "source": [
    "Below, we see our lead time sample is highly skewed for not canceled bookings"
   ]
  },
  {
   "cell_type": "code",
   "execution_count": 68,
   "metadata": {},
   "outputs": [
    {
     "name": "stdout",
     "output_type": "stream",
     "text": [
      "Not Canceled bookings skewness: 1.435013296995035\n"
     ]
    },
    {
     "data": {
      "text/plain": [
       "<AxesSubplot:>"
      ]
     },
     "execution_count": 68,
     "metadata": {},
     "output_type": "execute_result"
    },
    {
     "data": {
      "image/png": "[encoded data removed]",
      "text/plain": [
       "<Figure size 432x288 with 1 Axes>"
      ]
     },
     "metadata": {
      "needs_background": "light"
     },
     "output_type": "display_data"
    }
   ],
   "source": [
    "#check for outliers/skewness in our dataset for not canceled bookings\n",
    "print('Not Canceled bookings skewness:', df[df.is_canceled==0].lead_time.skew())\n",
    "df[df.is_canceled==0].lead_time.hist()"
   ]
  },
  {
   "cell_type": "markdown",
   "metadata": {},
   "source": [
    "Below, we remove outliers using box plot calculations and IQR for canceled and not canceled bookings"
   ]
  },
  {
   "cell_type": "code",
   "execution_count": 69,
   "metadata": {},
   "outputs": [
    {
     "name": "stdout",
     "output_type": "stream",
     "text": [
      "Q1: 53.0\n",
      "Q3: 205.0\n",
      "Lower Bound_canceled: -175.0\n",
      "Upper Bound_canceled: 433.0\n"
     ]
    }
   ],
   "source": [
    "#Since skewness is higher than moderate let's remove any outliers using box plot calculations\n",
    "#Canceled bookings outliers\n",
    "df.sort_values(\"lead_time\")\n",
    "q1_canceled, q3_canceled= np.percentile(df[df.is_canceled==1].lead_time,[25,75])\n",
    "print('Q1:', q1_canceled)\n",
    "print('Q3:',q3_canceled)\n",
    "\n",
    "iqr_canceled = q3_canceled - q1_canceled\n",
    "\n",
    "lower_bound_canceled = q1_canceled -(1.5 * iqr_canceled)\n",
    "upper_bound_canceled = q3_canceled +(1.5 * iqr_canceled)\n",
    "\n",
    "print('Lower Bound_canceled:', lower_bound_canceled)\n",
    "print('Upper Bound_canceled:', upper_bound_canceled)\n"
   ]
  },
  {
   "cell_type": "code",
   "execution_count": 70,
   "metadata": {},
   "outputs": [
    {
     "name": "stdout",
     "output_type": "stream",
     "text": [
      "Q1: 11.0\n",
      "Q3: 146.0\n",
      "Lower Bound_not_canceled: -191.5\n",
      "Upper Bound_not_canceled: 348.5\n"
     ]
    }
   ],
   "source": [
    "##Since skewness is higher than moderate let's remove any outliers using box plot calculations\n",
    "#Not Canceled bookings outliers\n",
    "q1_not_canceled, q3_not_canceled= np.percentile(df[df.is_canceled==0].lead_time,[25,75])\n",
    "print('Q1:', q1_not_canceled)\n",
    "print('Q3:',q3_not_canceled)\n",
    "\n",
    "iqr_not_canceled = q3_not_canceled - q1_not_canceled\n",
    "\n",
    "lower_bound_not_canceled = q1_not_canceled -(1.5 * iqr_not_canceled)\n",
    "upper_bound_not_canceled = q3_not_canceled +(1.5 * iqr_not_canceled)\n",
    "\n",
    "print('Lower Bound_not_canceled:', lower_bound_not_canceled)\n",
    "print('Upper Bound_not_canceled:', upper_bound_not_canceled)\n"
   ]
  },
  {
   "cell_type": "markdown",
   "metadata": {},
   "source": [
    "Below, we created a new dataset that only includes lead_time, date and whether it was canceled or not EXCLUDING outliers"
   ]
  },
  {
   "cell_type": "code",
   "execution_count": 87,
   "metadata": {},
   "outputs": [
    {
     "data": {
      "text/html": [
       "<div>\n",
       "<style scoped>\n",
       "    .dataframe tbody tr th:only-of-type {\n",
       "        vertical-align: middle;\n",
       "    }\n",
       "\n",
       "    .dataframe tbody tr th {\n",
       "        vertical-align: top;\n",
       "    }\n",
       "\n",
       "    .dataframe thead th {\n",
       "        text-align: right;\n",
       "    }\n",
       "</style>\n",
       "<table border=\"1\" class=\"dataframe\">\n",
       "  <thead>\n",
       "    <tr style=\"text-align: right;\">\n",
       "      <th></th>\n",
       "      <th>is_canceled</th>\n",
       "      <th>lead_time</th>\n",
       "      <th>date</th>\n",
       "    </tr>\n",
       "  </thead>\n",
       "  <tbody>\n",
       "    <tr>\n",
       "      <th>0</th>\n",
       "      <td>1</td>\n",
       "      <td>211</td>\n",
       "      <td>2017-08-19</td>\n",
       "    </tr>\n",
       "    <tr>\n",
       "      <th>1</th>\n",
       "      <td>1</td>\n",
       "      <td>214</td>\n",
       "      <td>2017-08-18</td>\n",
       "    </tr>\n",
       "    <tr>\n",
       "      <th>2</th>\n",
       "      <td>1</td>\n",
       "      <td>205</td>\n",
       "      <td>2017-04-10</td>\n",
       "    </tr>\n",
       "    <tr>\n",
       "      <th>3</th>\n",
       "      <td>1</td>\n",
       "      <td>0</td>\n",
       "      <td>2017-08-17</td>\n",
       "    </tr>\n",
       "    <tr>\n",
       "      <th>4</th>\n",
       "      <td>1</td>\n",
       "      <td>99</td>\n",
       "      <td>2017-03-23</td>\n",
       "    </tr>\n",
       "    <tr>\n",
       "      <th>...</th>\n",
       "      <td>...</td>\n",
       "      <td>...</td>\n",
       "      <td>...</td>\n",
       "    </tr>\n",
       "    <tr>\n",
       "      <th>3937</th>\n",
       "      <td>0</td>\n",
       "      <td>257</td>\n",
       "      <td>2017-05-09</td>\n",
       "    </tr>\n",
       "    <tr>\n",
       "      <th>3938</th>\n",
       "      <td>0</td>\n",
       "      <td>126</td>\n",
       "      <td>2017-02-02</td>\n",
       "    </tr>\n",
       "    <tr>\n",
       "      <th>3939</th>\n",
       "      <td>0</td>\n",
       "      <td>88</td>\n",
       "      <td>2017-03-15</td>\n",
       "    </tr>\n",
       "    <tr>\n",
       "      <th>3940</th>\n",
       "      <td>0</td>\n",
       "      <td>87</td>\n",
       "      <td>2017-05-04</td>\n",
       "    </tr>\n",
       "    <tr>\n",
       "      <th>3941</th>\n",
       "      <td>0</td>\n",
       "      <td>79</td>\n",
       "      <td>2017-01-26</td>\n",
       "    </tr>\n",
       "  </tbody>\n",
       "</table>\n",
       "<p>3942 rows × 3 columns</p>\n",
       "</div>"
      ],
      "text/plain": [
       "      is_canceled  lead_time       date\n",
       "0               1        211 2017-08-19\n",
       "1               1        214 2017-08-18\n",
       "2               1        205 2017-04-10\n",
       "3               1          0 2017-08-17\n",
       "4               1         99 2017-03-23\n",
       "...           ...        ...        ...\n",
       "3937            0        257 2017-05-09\n",
       "3938            0        126 2017-02-02\n",
       "3939            0         88 2017-03-15\n",
       "3940            0         87 2017-05-04\n",
       "3941            0         79 2017-01-26\n",
       "\n",
       "[3942 rows x 3 columns]"
      ]
     },
     "execution_count": 87,
     "metadata": {},
     "output_type": "execute_result"
    }
   ],
   "source": [
    "#will filter out outliers from previous calculations and create one dataframe for it\n",
    "df1 = df[(df.is_canceled==1) & (df.lead_time>lower_bound_canceled) & (df.lead_time<upper_bound_canceled)]\n",
    "df2 = df[(df.is_canceled==0) & (df.lead_time>lower_bound_not_canceled) & (df.lead_time<upper_bound_not_canceled)]\n",
    "\n",
    "df = pd.concat([df1, df2], ignore_index=True)\n",
    "df"
   ]
  },
  {
   "cell_type": "markdown",
   "metadata": {},
   "source": [
    "Skewness is lower than before in the new dataset"
   ]
  },
  {
   "cell_type": "code",
   "execution_count": 94,
   "metadata": {},
   "outputs": [
    {
     "name": "stdout",
     "output_type": "stream",
     "text": [
      "Canceled bookings skewness: 0.7947723620139879\n",
      "Not_Canceled bookings skewness: 0.9840302396862864\n"
     ]
    },
    {
     "data": {
      "text/plain": [
       "<matplotlib.legend.Legend at 0x7fb658ba1280>"
      ]
     },
     "execution_count": 94,
     "metadata": {},
     "output_type": "execute_result"
    },
    {
     "data": {
      "image/png": "[encoded data removed]",
      "text/plain": [
       "<Figure size 432x288 with 1 Axes>"
      ]
     },
     "metadata": {
      "needs_background": "light"
     },
     "output_type": "display_data"
    }
   ],
   "source": [
    "#Now we can see that skewness is lower\n",
    "print('Canceled bookings skewness:', df[df.is_canceled==1].lead_time.skew())\n",
    "print('Not_Canceled bookings skewness:', df[df.is_canceled==0].lead_time.skew())\n",
    "\n",
    "df[df.is_canceled==0].lead_time.hist(label='not_canceled')\n",
    "df[df.is_canceled==1].lead_time.hist(label='canceled')\n",
    "plt.legend()"
   ]
  },
  {
   "cell_type": "markdown",
   "metadata": {},
   "source": [
    "Let's explore lead times with bins of 50"
   ]
  },
  {
   "cell_type": "code",
   "execution_count": 95,
   "metadata": {},
   "outputs": [
    {
     "data": {
      "text/plain": [
       "<AxesSubplot:>"
      ]
     },
     "execution_count": 95,
     "metadata": {},
     "output_type": "execute_result"
    },
    {
     "data": {
      "image/png": "[encoded data removed]",
      "text/plain": [
       "<Figure size 432x288 with 1 Axes>"
      ]
     },
     "metadata": {
      "needs_background": "light"
     },
     "output_type": "display_data"
    }
   ],
   "source": [
    "df_new=df[df.is_canceled==1]\n",
    "df_new0=df[df.is_canceled==0]\n",
    "df_new['lead_time'].value_counts()\n",
    "\n",
    "df_new0.lead_time.hist(bins=50)"
   ]
  },
  {
   "cell_type": "markdown",
   "metadata": {},
   "source": [
    "# Percent Lead Time Cancellations (Bin size=50)"
   ]
  },
  {
   "cell_type": "code",
   "execution_count": 96,
   "metadata": {},
   "outputs": [],
   "source": [
    "#Create custom binning for lead_time\n",
    "df_new=df[df.is_canceled==1]\n",
    "\n",
    "df0_new = df_new.loc[(df_new['lead_time'] >= 0) & (df_new['lead_time'] < 50)]\n",
    "df1_new = df_new.loc[(df_new['lead_time'] >= 50) & (df_new['lead_time'] < 100)]\n",
    "df2_new = df_new.loc[(df_new['lead_time'] >= 100) & (df_new['lead_time'] < 150)]\n",
    "df3_new = df_new.loc[(df_new['lead_time'] >= 150) & (df_new['lead_time'] < 200)]\n",
    "df4_new = df_new.loc[(df_new['lead_time'] >= 200) & (df_new['lead_time'] < 250)]\n",
    "df5_new = df_new.loc[(df_new['lead_time'] >= 250) & (df_new['lead_time'] < 300)]\n",
    "df6_new = df_new.loc[(df_new['lead_time'] >= 300) & (df_new['lead_time'] < 350)]\n",
    "df7_new = df_new.loc[(df_new['lead_time'] >= 350)]\n",
    "\n",
    "#Storing the bins as percents\n",
    "df0=(df0_new.lead_time.count()/df_new.lead_time.count())*100\n",
    "df1=(df1_new.lead_time.count()/df_new.lead_time.count())*100\n",
    "df2=(df2_new.lead_time.count()/df_new.lead_time.count())*100\n",
    "df3=(df3_new.lead_time.count()/df_new.lead_time.count())*100\n",
    "df4=(df4_new.lead_time.count()/df_new.lead_time.count())*100\n",
    "df5=(df5_new.lead_time.count()/df_new.lead_time.count())*100\n",
    "df6=(df6_new.lead_time.count()/df_new.lead_time.count())*100\n",
    "df7=(df7_new.lead_time.count()/df_new.lead_time.count())*100"
   ]
  },
  {
   "cell_type": "markdown",
   "metadata": {},
   "source": [
    "The chart belows shows, 45.48% of the cancellations occurred with a lead time less than 100 days. The closer a booking is made relative to the arrival date, the more likely that booking may be canceled."
   ]
  },
  {
   "cell_type": "code",
   "execution_count": 75,
   "metadata": {},
   "outputs": [
    {
     "data": {
      "text/plain": [
       "([0, 1, 2, 3, 4, 5, 6, 7],\n",
       " [Text(0, 0, ''),\n",
       "  Text(0, 0, ''),\n",
       "  Text(0, 0, ''),\n",
       "  Text(0, 0, ''),\n",
       "  Text(0, 0, ''),\n",
       "  Text(0, 0, ''),\n",
       "  Text(0, 0, ''),\n",
       "  Text(0, 0, '')])"
      ]
     },
     "execution_count": 75,
     "metadata": {},
     "output_type": "execute_result"
    },
    {
     "data": {
      "image/png": "[encoded data removed]",
      "text/plain": [
       "<Figure size 800x480 with 1 Axes>"
      ]
     },
     "metadata": {
      "needs_background": "light"
     },
     "output_type": "display_data"
    }
   ],
   "source": [
    "import matplotlib.pyplot as plt\n",
    "from matplotlib.pyplot import figure\n",
    "figure(figsize=(10,6), dpi=80)\n",
    "colors = ['#6578C6', '#1f77b4', '#d62728', '#BCD32F', '#34D8E7',\n",
    "          '#4E00C6', '#D55BE0', '#FFAFCE']\n",
    "\n",
    "values=[round(df0,2),round(df1,2),round(df2,2),round(df3,2),round(df4,2),round(df5,2),round(df6,2),round(df7,2)]\n",
    "ranges=['<50','50-100','100-150','150-200','200-250','250-300','300-350','>350']\n",
    "plot1 = plt.bar(ranges,values, color=colors)\n",
    "\n",
    "\n",
    "def addlabels(ranges,values):\n",
    "    for i in range(len(ranges)):\n",
    "        plt.text(i,values[i],values[i], ha='center')\n",
    "addlabels(ranges,values)\n",
    "\n",
    "plt.title(\"Percent Lead Time\")\n",
    "plt.xlabel(\"Bins\")\n",
    "plt.ylabel(\"Percent\")\n",
    "plt.xticks(rotation=0)"
   ]
  },
  {
   "cell_type": "markdown",
   "metadata": {},
   "source": [
    "# Percent Lead Time Non-Cancellations (Bin size=50)\n"
   ]
  },
  {
   "cell_type": "code",
   "execution_count": 77,
   "metadata": {},
   "outputs": [],
   "source": [
    "#Create custom binning for lead_time\n",
    "df_new0=df[df.is_canceled==0]\n",
    "\n",
    "df0_new0 = df_new0.loc[(df_new0['lead_time'] >= 0) & (df_new0['lead_time'] < 50)]\n",
    "df1_new0 = df_new0.loc[(df_new0['lead_time'] >= 50) & (df_new0['lead_time'] < 100)]\n",
    "df2_new0 = df_new0.loc[(df_new0['lead_time'] >= 100) & (df_new0['lead_time'] < 150)]\n",
    "df3_new0 = df_new0.loc[(df_new0['lead_time'] >= 150) & (df_new0['lead_time'] < 200)]\n",
    "df4_new0 = df_new0.loc[(df_new0['lead_time'] >= 200) & (df_new0['lead_time'] < 250)]\n",
    "df5_new0 = df_new0.loc[(df_new0['lead_time'] >= 250) & (df_new0['lead_time'] < 300)]\n",
    "df6_new0 = df_new0.loc[(df_new0['lead_time'] >= 300) & (df_new0['lead_time'] < 350)]\n",
    "df7_new0 = df_new0.loc[(df_new0['lead_time'] >= 350)]\n",
    "\n",
    "#Storing the bins as percents\n",
    "df0=(df0_new0.lead_time.count()/df_new0.lead_time.count())*100\n",
    "df1=(df1_new0.lead_time.count()/df_new0.lead_time.count())*100\n",
    "df2=(df2_new0.lead_time.count()/df_new0.lead_time.count())*100\n",
    "df3=(df3_new0.lead_time.count()/df_new0.lead_time.count())*100\n",
    "df4=(df4_new0.lead_time.count()/df_new0.lead_time.count())*100\n",
    "df5=(df5_new0.lead_time.count()/df_new0.lead_time.count())*100\n",
    "df6=(df6_new0.lead_time.count()/df_new0.lead_time.count())*100\n",
    "df7=(df7_new0.lead_time.count()/df_new0.lead_time.count())*100"
   ]
  },
  {
   "cell_type": "markdown",
   "metadata": {},
   "source": [
    "Most of the bookings that were not canceled had a lead time of less than 50 days"
   ]
  },
  {
   "cell_type": "code",
   "execution_count": 78,
   "metadata": {},
   "outputs": [
    {
     "data": {
      "text/plain": [
       "([0, 1, 2, 3, 4, 5, 6, 7],\n",
       " [Text(0, 0, ''),\n",
       "  Text(0, 0, ''),\n",
       "  Text(0, 0, ''),\n",
       "  Text(0, 0, ''),\n",
       "  Text(0, 0, ''),\n",
       "  Text(0, 0, ''),\n",
       "  Text(0, 0, ''),\n",
       "  Text(0, 0, '')])"
      ]
     },
     "execution_count": 78,
     "metadata": {},
     "output_type": "execute_result"
    },
    {
     "data": {
      "image/png": "[encoded data removed]",
      "text/plain": [
       "<Figure size 800x480 with 1 Axes>"
      ]
     },
     "metadata": {
      "needs_background": "light"
     },
     "output_type": "display_data"
    }
   ],
   "source": [
    "import matplotlib.pyplot as plt\n",
    "from matplotlib.pyplot import figure\n",
    "figure(figsize=(10,6), dpi=80)\n",
    "colors = ['#6578C6', '#1f77b4', '#d62728', '#BCD32F', '#34D8E7',\n",
    "          '#4E00C6', '#D55BE0', '#FFAFCE']\n",
    "values=[round(df0,2),round(df1,2),round(df2,2),round(df3,2),round(df4,2),round(df5,2),round(df6,2),round(df7,2)]\n",
    "ranges=['<50','50-100','100-150','150-200','200-250','250-300','300-350','>350']\n",
    "plot1 = plt.bar(ranges,values, color=colors)\n",
    "\n",
    "def addlabels(ranges,values):\n",
    "    for i in range(len(ranges)):\n",
    "        plt.text(i,values[i],values[i], ha='center')\n",
    "addlabels(ranges,values)\n",
    "\n",
    "plt.title(\"Percent Lead Time\")\n",
    "plt.xlabel(\"Bins\")\n",
    "plt.ylabel(\"Percent\")\n",
    "plt.xticks(rotation=0)\n"
   ]
  },
  {
   "cell_type": "markdown",
   "metadata": {},
   "source": [
    "# Insight Drawn:"
   ]
  },
  {
   "cell_type": "markdown",
   "metadata": {},
   "source": [
    "Most of the cancellations occurred under 100 days, however, for bookings that were not cancelled the majority lead time was below 50 days. This means that the closer a booking is made to the arrival date the less likely that booking will be canceled and the farther out the booking is made from the arrival date the more likely that booking will be canceled\n",
    "\n",
    "However, we must run a test to see if this is statistically signficant"
   ]
  },
  {
   "cell_type": "markdown",
   "metadata": {},
   "source": [
    "# Choice of Test:"
   ]
  },
  {
   "cell_type": "markdown",
   "metadata": {},
   "source": [
    "Since our data is highly skewed even after removing outliers, we will use a non-parametric test to compare the lead time medians for canceled and non canceled bookings. A Mann-Whitney-U test is conducted below"
   ]
  },
  {
   "cell_type": "markdown",
   "metadata": {},
   "source": [
    "# Mann-Whitney-U Test"
   ]
  },
  {
   "cell_type": "markdown",
   "metadata": {},
   "source": [
    "Assumptions of the test:\n",
    "\n",
    "-The dependent variable should be measured on an ordinal scale or a continuous scale.\n",
    "\n",
    "-The independent variable should be two independent, categorical groups.\n",
    "\n",
    "-Observations should be independent. In other words, there should be no relationship between the two groups or within each group.\n",
    "\n",
    "-Observations are not normally distributed. However, they should follow the same shape (i.e. both are bell-shaped and skewed left).\n"
   ]
  },
  {
   "cell_type": "markdown",
   "metadata": {},
   "source": [
    "# Hypothesis:"
   ]
  },
  {
   "cell_type": "markdown",
   "metadata": {},
   "source": [
    "Null Hpythesis: the probability is 50% that a randomly drawn customer of the canceled lead time sample will exceed a lead time of the not canceled lead time sample. \n",
    "\n",
    "Alternative Hypthesis: the probability is NOT 50% that a randomly drawn customer of the canceled lead time sample will exceed a lead time of the not canceled lead time sample. "
   ]
  },
  {
   "cell_type": "code",
   "execution_count": 79,
   "metadata": {},
   "outputs": [
    {
     "name": "stdout",
     "output_type": "stream",
     "text": [
      "Requirement already satisfied: pingouin in /Users/harshpatel/opt/anaconda3/lib/python3.8/site-packages (0.3.11)\n",
      "Requirement already satisfied: scipy>=1.3 in /Users/harshpatel/opt/anaconda3/lib/python3.8/site-packages (from pingouin) (1.5.2)\n",
      "Requirement already satisfied: seaborn>=0.9.0 in /Users/harshpatel/opt/anaconda3/lib/python3.8/site-packages (from pingouin) (0.11.0)\n",
      "Requirement already satisfied: matplotlib>=3.0.2 in /Users/harshpatel/opt/anaconda3/lib/python3.8/site-packages (from pingouin) (3.3.2)\n",
      "Requirement already satisfied: numpy>=1.15 in /Users/harshpatel/opt/anaconda3/lib/python3.8/site-packages (from pingouin) (1.19.2)\n",
      "Requirement already satisfied: pandas>=0.24 in /Users/harshpatel/opt/anaconda3/lib/python3.8/site-packages (from pingouin) (1.1.3)\n",
      "Requirement already satisfied: statsmodels>=0.10.0 in /Users/harshpatel/opt/anaconda3/lib/python3.8/site-packages (from pingouin) (0.12.0)\n",
      "Requirement already satisfied: scikit-learn in /Users/harshpatel/opt/anaconda3/lib/python3.8/site-packages (from pingouin) (0.23.2)\n",
      "Requirement already satisfied: tabulate in /Users/harshpatel/opt/anaconda3/lib/python3.8/site-packages (from pingouin) (0.8.9)\n",
      "Requirement already satisfied: outdated in /Users/harshpatel/opt/anaconda3/lib/python3.8/site-packages (from pingouin) (0.2.1)\n",
      "Requirement already satisfied: pandas-flavor>=0.1.2 in /Users/harshpatel/opt/anaconda3/lib/python3.8/site-packages (from pingouin) (0.2.0)\n",
      "Requirement already satisfied: kiwisolver>=1.0.1 in /Users/harshpatel/opt/anaconda3/lib/python3.8/site-packages (from matplotlib>=3.0.2->pingouin) (1.3.0)\n",
      "Requirement already satisfied: cycler>=0.10 in /Users/harshpatel/opt/anaconda3/lib/python3.8/site-packages (from matplotlib>=3.0.2->pingouin) (0.10.0)\n",
      "Requirement already satisfied: certifi>=2020.06.20 in /Users/harshpatel/opt/anaconda3/lib/python3.8/site-packages (from matplotlib>=3.0.2->pingouin) (2020.6.20)\n",
      "Requirement already satisfied: pyparsing!=2.0.4,!=2.1.2,!=2.1.6,>=2.0.3 in /Users/harshpatel/opt/anaconda3/lib/python3.8/site-packages (from matplotlib>=3.0.2->pingouin) (2.4.7)\n",
      "Requirement already satisfied: pillow>=6.2.0 in /Users/harshpatel/opt/anaconda3/lib/python3.8/site-packages (from matplotlib>=3.0.2->pingouin) (8.0.1)\n",
      "Requirement already satisfied: python-dateutil>=2.1 in /Users/harshpatel/opt/anaconda3/lib/python3.8/site-packages (from matplotlib>=3.0.2->pingouin) (2.8.1)\n",
      "Requirement already satisfied: pytz>=2017.2 in /Users/harshpatel/opt/anaconda3/lib/python3.8/site-packages (from pandas>=0.24->pingouin) (2020.1)\n",
      "Requirement already satisfied: patsy>=0.5 in /Users/harshpatel/opt/anaconda3/lib/python3.8/site-packages (from statsmodels>=0.10.0->pingouin) (0.5.1)\n",
      "Requirement already satisfied: threadpoolctl>=2.0.0 in /Users/harshpatel/opt/anaconda3/lib/python3.8/site-packages (from scikit-learn->pingouin) (2.1.0)\n",
      "Requirement already satisfied: joblib>=0.11 in /Users/harshpatel/opt/anaconda3/lib/python3.8/site-packages (from scikit-learn->pingouin) (0.17.0)\n",
      "Requirement already satisfied: littleutils in /Users/harshpatel/opt/anaconda3/lib/python3.8/site-packages (from outdated->pingouin) (0.2.2)\n",
      "Requirement already satisfied: requests in /Users/harshpatel/opt/anaconda3/lib/python3.8/site-packages (from outdated->pingouin) (2.24.0)\n",
      "Requirement already satisfied: xarray in /Users/harshpatel/opt/anaconda3/lib/python3.8/site-packages (from pandas-flavor>=0.1.2->pingouin) (0.18.2)\n",
      "Requirement already satisfied: six in /Users/harshpatel/opt/anaconda3/lib/python3.8/site-packages (from cycler>=0.10->matplotlib>=3.0.2->pingouin) (1.15.0)\n",
      "Requirement already satisfied: chardet<4,>=3.0.2 in /Users/harshpatel/opt/anaconda3/lib/python3.8/site-packages (from requests->outdated->pingouin) (3.0.4)\n",
      "Requirement already satisfied: urllib3!=1.25.0,!=1.25.1,<1.26,>=1.21.1 in /Users/harshpatel/opt/anaconda3/lib/python3.8/site-packages (from requests->outdated->pingouin) (1.25.11)\n",
      "Requirement already satisfied: idna<3,>=2.5 in /Users/harshpatel/opt/anaconda3/lib/python3.8/site-packages (from requests->outdated->pingouin) (2.10)\n",
      "Requirement already satisfied: setuptools>=40.4 in /Users/harshpatel/opt/anaconda3/lib/python3.8/site-packages (from xarray->pandas-flavor>=0.1.2->pingouin) (50.3.1.post20201107)\n",
      "Note: you may need to restart the kernel to use updated packages.\n"
     ]
    }
   ],
   "source": [
    "pip install pingouin #import pingouin package"
   ]
  },
  {
   "cell_type": "code",
   "execution_count": 80,
   "metadata": {},
   "outputs": [],
   "source": [
    "canceled_lead_time = df[df.is_canceled==1].lead_time\n",
    "not_canceled_lead_time = df[df.is_canceled==0].lead_time"
   ]
  },
  {
   "cell_type": "code",
   "execution_count": 81,
   "metadata": {},
   "outputs": [
    {
     "data": {
      "text/html": [
       "<div>\n",
       "<style scoped>\n",
       "    .dataframe tbody tr th:only-of-type {\n",
       "        vertical-align: middle;\n",
       "    }\n",
       "\n",
       "    .dataframe tbody tr th {\n",
       "        vertical-align: top;\n",
       "    }\n",
       "\n",
       "    .dataframe thead th {\n",
       "        text-align: right;\n",
       "    }\n",
       "</style>\n",
       "<table border=\"1\" class=\"dataframe\">\n",
       "  <thead>\n",
       "    <tr style=\"text-align: right;\">\n",
       "      <th></th>\n",
       "      <th>U-val</th>\n",
       "      <th>tail</th>\n",
       "      <th>p-val</th>\n",
       "      <th>RBC</th>\n",
       "      <th>CLES</th>\n",
       "    </tr>\n",
       "  </thead>\n",
       "  <tbody>\n",
       "    <tr>\n",
       "      <th>MWU</th>\n",
       "      <td>2414360.0</td>\n",
       "      <td>two-sided</td>\n",
       "      <td>3.608763e-64</td>\n",
       "      <td>-0.320637</td>\n",
       "      <td>0.660318</td>\n",
       "    </tr>\n",
       "  </tbody>\n",
       "</table>\n",
       "</div>"
      ],
      "text/plain": [
       "         U-val       tail         p-val       RBC      CLES\n",
       "MWU  2414360.0  two-sided  3.608763e-64 -0.320637  0.660318"
      ]
     },
     "execution_count": 81,
     "metadata": {},
     "output_type": "execute_result"
    }
   ],
   "source": [
    "import pingouin as pg\n",
    "pg.mwu(canceled_lead_time, not_canceled_lead_time, tail='two-sided')"
   ]
  },
  {
   "cell_type": "code",
   "execution_count": 82,
   "metadata": {},
   "outputs": [
    {
     "data": {
      "text/plain": [
       "111.0"
      ]
     },
     "execution_count": 82,
     "metadata": {},
     "output_type": "execute_result"
    }
   ],
   "source": [
    "canceled_lead_time.median()"
   ]
  },
  {
   "cell_type": "code",
   "execution_count": 83,
   "metadata": {},
   "outputs": [
    {
     "data": {
      "text/plain": [
       "56.0"
      ]
     },
     "execution_count": 83,
     "metadata": {},
     "output_type": "execute_result"
    }
   ],
   "source": [
    "not_canceled_lead_time.median()"
   ]
  },
  {
   "cell_type": "markdown",
   "metadata": {},
   "source": [
    "# Conclusion:"
   ]
  },
  {
   "cell_type": "markdown",
   "metadata": {
    "scrolled": true
   },
   "source": [
    "Our test results have a p-value less than .05, therefore, we reject the null hypothesis and accept our alternative hypothesis. The probability is NOT 50% that a randomly drawn customer of the canceled lead time sample will exceed a lead time of the not canceled lead time sample. Since our data is highley skewed we cannot include a Z statistic in our results.\n",
    "\n",
    "Median lead time in canceled and not canceled groups was 111.0 and 56.0. The distributions in the two groups differed significantly (Mann–Whitney U = 2414360.0, n1 (canceled) = 1493, n2 (not_canceled) = 2449, P < 0.05 two-tailed).\n",
    "\n",
    "The probability of canceled bookings having a larger lead time than lead time of non canceled bookings is 66%. Thus, canceled bookings were booked farther out relative to the bookings arrival date than not canceled bookings. Non canceled bookings were booked closer to the bookings arrival date compared to canceled bookings.\n"
   ]
  },
  {
   "cell_type": "code",
   "execution_count": 84,
   "metadata": {},
   "outputs": [
    {
     "data": {
      "text/plain": [
       "1493"
      ]
     },
     "execution_count": 84,
     "metadata": {},
     "output_type": "execute_result"
    }
   ],
   "source": [
    "canceled_lead_time.count()"
   ]
  },
  {
   "cell_type": "code",
   "execution_count": 85,
   "metadata": {},
   "outputs": [
    {
     "data": {
      "text/plain": [
       "2449"
      ]
     },
     "execution_count": 85,
     "metadata": {},
     "output_type": "execute_result"
    }
   ],
   "source": [
    "not_canceled_lead_time.count()"
   ]
  }
 ],
 "metadata": {
  "kernelspec": {
   "display_name": "Python 3",
   "language": "python",
   "name": "python3"
  },
  "language_info": {
   "codemirror_mode": {
    "name": "ipython",
    "version": 3
   },
   "file_extension": ".py",
   "mimetype": "text/x-python",
   "name": "python",
   "nbconvert_exporter": "python",
   "pygments_lexer": "ipython3",
   "version": "3.8.5"
  }
 },
 "nbformat": 4,
 "nbformat_minor": 4
}
