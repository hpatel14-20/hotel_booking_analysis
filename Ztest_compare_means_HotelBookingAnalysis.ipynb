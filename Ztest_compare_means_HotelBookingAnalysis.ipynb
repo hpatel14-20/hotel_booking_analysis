{
 "cells": [
  {
   "cell_type": "code",
   "execution_count": 195,
   "metadata": {},
   "outputs": [
    {
     "data": {
      "text/plain": [
       "Index(['hotel', 'is_canceled', 'lead_time', 'arrival_date_year',\n",
       "       'arrival_date_month', 'arrival_date_week_number',\n",
       "       'arrival_date_day_of_month', 'stays_in_weekend_nights',\n",
       "       'stays_in_week_nights', 'adults', 'children', 'babies', 'meal',\n",
       "       'country', 'market_segment', 'distribution_channel',\n",
       "       'is_repeated_guest', 'previous_cancellations',\n",
       "       'previous_bookings_not_canceled', 'reserved_room_type',\n",
       "       'assigned_room_type', 'booking_changes', 'deposit_type', 'agent',\n",
       "       'company', 'days_in_waiting_list', 'customer_type', 'adr',\n",
       "       'required_car_parking_spaces', 'total_of_special_requests',\n",
       "       'reservation_status', 'reservation_status_date'],\n",
       "      dtype='object')"
      ]
     },
     "execution_count": 195,
     "metadata": {},
     "output_type": "execute_result"
    }
   ],
   "source": [
    "import pandas as pd\n",
    "import numpy as np\n",
    "df = pd.read_csv('hotel_bookings.csv')\n",
    "df.columns"
   ]
  },
  {
   "cell_type": "code",
   "execution_count": 196,
   "metadata": {},
   "outputs": [
    {
     "data": {
      "text/plain": [
       "dtype('<M8[ns]')"
      ]
     },
     "execution_count": 196,
     "metadata": {},
     "output_type": "execute_result"
    }
   ],
   "source": [
    "#combining date columns into a single pandas date time format \n",
    "df['date'] =pd.to_datetime(df.arrival_date_year.astype(str) + df.arrival_date_month.astype(str) + df.arrival_date_day_of_month.astype(str), format='%Y%B%d')\n",
    "df['date'].dtype #data frame now contains a pandas date time format date column"
   ]
  },
  {
   "cell_type": "code",
   "execution_count": 197,
   "metadata": {},
   "outputs": [],
   "source": [
    "df = df.drop(['hotel', 'lead_time', 'arrival_date_year',\n",
    "       'arrival_date_month', 'arrival_date_week_number',\n",
    "       'arrival_date_day_of_month', 'stays_in_weekend_nights',\n",
    "       'stays_in_week_nights', 'adults', 'children', 'babies', 'meal',\n",
    "       'country', 'market_segment', 'distribution_channel',\n",
    "       'is_repeated_guest', 'previous_cancellations',\n",
    "       'previous_bookings_not_canceled', 'reserved_room_type',\n",
    "       'assigned_room_type', 'booking_changes', 'deposit_type', 'agent',\n",
    "       'company', 'days_in_waiting_list', 'customer_type',\n",
    "       'required_car_parking_spaces', 'total_of_special_requests',\n",
    "       'reservation_status', 'reservation_status_date'], axis=1)"
   ]
  },
  {
   "cell_type": "markdown",
   "metadata": {},
   "source": [
    "# Extracting 2017 Observations"
   ]
  },
  {
   "cell_type": "code",
   "execution_count": 198,
   "metadata": {},
   "outputs": [
    {
     "data": {
      "text/plain": [
       "is_canceled    40687\n",
       "adr            40687\n",
       "date           40687\n",
       "dtype: int64"
      ]
     },
     "execution_count": 198,
     "metadata": {},
     "output_type": "execute_result"
    }
   ],
   "source": [
    "#Let's only explore datapoints in 2017 population\n",
    "df = df.loc[(df['date'] >= '2017-01-01')& (df['date'] <= '2017-12-31')]\n",
    "df.count()"
   ]
  },
  {
   "cell_type": "markdown",
   "metadata": {},
   "source": [
    "# Extract a Random Sample 10% of Observations"
   ]
  },
  {
   "cell_type": "code",
   "execution_count": 199,
   "metadata": {},
   "outputs": [],
   "source": [
    "#extract a random sample of 4068 for a two sample z test for comapring means\n",
    "df = df.sample(n=4068, random_state=50)"
   ]
  },
  {
   "cell_type": "markdown",
   "metadata": {},
   "source": [
    "Check for skewness for canceled average daily rates"
   ]
  },
  {
   "cell_type": "code",
   "execution_count": 200,
   "metadata": {},
   "outputs": [
    {
     "name": "stdout",
     "output_type": "stream",
     "text": [
      "Canceled bookings skewness: 0.9350625746091727\n"
     ]
    },
    {
     "data": {
      "text/plain": [
       "<AxesSubplot:>"
      ]
     },
     "execution_count": 200,
     "metadata": {},
     "output_type": "execute_result"
    },
    {
     "data": {
      "image/png": "[encoded data removed]",
      "text/plain": [
       "<Figure size 432x288 with 1 Axes>"
      ]
     },
     "metadata": {
      "needs_background": "light"
     },
     "output_type": "display_data"
    }
   ],
   "source": [
    "#check for outliers/skewness in our dataset for canceled bookings\n",
    "print('Canceled bookings skewness:', df[df.is_canceled==1].adr.skew())\n",
    "df[df.is_canceled==1].adr.hist()"
   ]
  },
  {
   "cell_type": "markdown",
   "metadata": {},
   "source": [
    "Check for skewness for canceled average daily rates"
   ]
  },
  {
   "cell_type": "code",
   "execution_count": 201,
   "metadata": {},
   "outputs": [
    {
     "name": "stdout",
     "output_type": "stream",
     "text": [
      "Canceled bookings skewness: 0.8272397158448642\n"
     ]
    },
    {
     "data": {
      "text/plain": [
       "<AxesSubplot:>"
      ]
     },
     "execution_count": 201,
     "metadata": {},
     "output_type": "execute_result"
    },
    {
     "data": {
      "image/png": "[encoded data removed]",
      "text/plain": [
       "<Figure size 432x288 with 1 Axes>"
      ]
     },
     "metadata": {
      "needs_background": "light"
     },
     "output_type": "display_data"
    }
   ],
   "source": [
    "#check for outliers/skewness in our dataset for not canceled bookings\n",
    "print('Canceled bookings skewness:', df[df.is_canceled==0].adr.skew())\n",
    "df[df.is_canceled==0].adr.hist()"
   ]
  },
  {
   "cell_type": "markdown",
   "metadata": {},
   "source": [
    "Let's remove outliers from both canceled and not canceled samples"
   ]
  },
  {
   "cell_type": "markdown",
   "metadata": {},
   "source": [
    "# Removing Outliers for Canceled Bookings"
   ]
  },
  {
   "cell_type": "code",
   "execution_count": 202,
   "metadata": {},
   "outputs": [
    {
     "name": "stdout",
     "output_type": "stream",
     "text": [
      "Q1: 85.165\n",
      "Q3: 140.825\n"
     ]
    }
   ],
   "source": [
    "#Since skewness is higher than moderate let's remove any outliers using box plot calculations\n",
    "#Canceled bookings outliers\n",
    "df.sort_values(\"adr\")\n",
    "q1_canceled, q3_canceled= np.percentile(df[df.is_canceled==1].adr,[25,75])\n",
    "print('Q1:', q1_canceled)\n",
    "print('Q3:',q3_canceled)"
   ]
  },
  {
   "cell_type": "code",
   "execution_count": 203,
   "metadata": {},
   "outputs": [
    {
     "data": {
      "text/plain": [
       "55.65999999999998"
      ]
     },
     "execution_count": 203,
     "metadata": {},
     "output_type": "execute_result"
    }
   ],
   "source": [
    "iqr_canceled = q3_canceled - q1_canceled\n",
    "iqr_canceled"
   ]
  },
  {
   "cell_type": "code",
   "execution_count": 204,
   "metadata": {},
   "outputs": [
    {
     "name": "stdout",
     "output_type": "stream",
     "text": [
      "Lower Bound_canceled: 1.6750000000000256\n",
      "Upper Bound_canceled: 224.31499999999997\n"
     ]
    }
   ],
   "source": [
    "lower_bound_canceled = q1_canceled -(1.5 * iqr_canceled)\n",
    "upper_bound_canceled = q3_canceled +(1.5 * iqr_canceled)\n",
    "\n",
    "print('Lower Bound_canceled:', lower_bound_canceled)\n",
    "print('Upper Bound_canceled:', upper_bound_canceled)\n"
   ]
  },
  {
   "cell_type": "markdown",
   "metadata": {},
   "source": [
    "# Removing Outliers for Non Canceled Bookings"
   ]
  },
  {
   "cell_type": "code",
   "execution_count": 205,
   "metadata": {},
   "outputs": [
    {
     "name": "stdout",
     "output_type": "stream",
     "text": [
      "Q1: 78.0\n",
      "Q3: 140.0\n",
      "Lower Bound_not_canceled: -15.0\n",
      "Upper Bound_not_canceled: 233.0\n"
     ]
    }
   ],
   "source": [
    "##Since skewness is higher than moderate let's remove any outliers using box plot calculations\n",
    "#Not Canceled bookings outliers\n",
    "q1_not_canceled, q3_not_canceled= np.percentile(df[df.is_canceled==0].adr,[25,75])\n",
    "print('Q1:', q1_not_canceled)\n",
    "print('Q3:',q3_not_canceled)\n",
    "\n",
    "iqr_not_canceled = q3_not_canceled - q1_not_canceled\n",
    "\n",
    "lower_bound_not_canceled = q1_not_canceled -(1.5 * iqr_not_canceled)\n",
    "upper_bound_not_canceled = q3_not_canceled +(1.5 * iqr_not_canceled)\n",
    "\n",
    "print('Lower Bound_not_canceled:', lower_bound_not_canceled)\n",
    "print('Upper Bound_not_canceled:', upper_bound_not_canceled)\n",
    "\n"
   ]
  },
  {
   "cell_type": "markdown",
   "metadata": {},
   "source": [
    "# Creating a New Dataframe Excluding Outliers"
   ]
  },
  {
   "cell_type": "code",
   "execution_count": 206,
   "metadata": {},
   "outputs": [
    {
     "data": {
      "text/html": [
       "<div>\n",
       "<style scoped>\n",
       "    .dataframe tbody tr th:only-of-type {\n",
       "        vertical-align: middle;\n",
       "    }\n",
       "\n",
       "    .dataframe tbody tr th {\n",
       "        vertical-align: top;\n",
       "    }\n",
       "\n",
       "    .dataframe thead th {\n",
       "        text-align: right;\n",
       "    }\n",
       "</style>\n",
       "<table border=\"1\" class=\"dataframe\">\n",
       "  <thead>\n",
       "    <tr style=\"text-align: right;\">\n",
       "      <th></th>\n",
       "      <th>is_canceled</th>\n",
       "      <th>adr</th>\n",
       "      <th>date</th>\n",
       "    </tr>\n",
       "  </thead>\n",
       "  <tbody>\n",
       "    <tr>\n",
       "      <th>0</th>\n",
       "      <td>1</td>\n",
       "      <td>100.00</td>\n",
       "      <td>2017-04-26</td>\n",
       "    </tr>\n",
       "    <tr>\n",
       "      <th>1</th>\n",
       "      <td>1</td>\n",
       "      <td>130.00</td>\n",
       "      <td>2017-05-30</td>\n",
       "    </tr>\n",
       "    <tr>\n",
       "      <th>2</th>\n",
       "      <td>1</td>\n",
       "      <td>122.67</td>\n",
       "      <td>2017-06-15</td>\n",
       "    </tr>\n",
       "    <tr>\n",
       "      <th>3</th>\n",
       "      <td>1</td>\n",
       "      <td>218.00</td>\n",
       "      <td>2017-07-31</td>\n",
       "    </tr>\n",
       "    <tr>\n",
       "      <th>4</th>\n",
       "      <td>1</td>\n",
       "      <td>74.80</td>\n",
       "      <td>2017-03-27</td>\n",
       "    </tr>\n",
       "    <tr>\n",
       "      <th>...</th>\n",
       "      <td>...</td>\n",
       "      <td>...</td>\n",
       "      <td>...</td>\n",
       "    </tr>\n",
       "    <tr>\n",
       "      <th>3929</th>\n",
       "      <td>0</td>\n",
       "      <td>60.00</td>\n",
       "      <td>2017-04-04</td>\n",
       "    </tr>\n",
       "    <tr>\n",
       "      <th>3930</th>\n",
       "      <td>0</td>\n",
       "      <td>165.33</td>\n",
       "      <td>2017-07-28</td>\n",
       "    </tr>\n",
       "    <tr>\n",
       "      <th>3931</th>\n",
       "      <td>0</td>\n",
       "      <td>160.00</td>\n",
       "      <td>2017-08-18</td>\n",
       "    </tr>\n",
       "    <tr>\n",
       "      <th>3932</th>\n",
       "      <td>0</td>\n",
       "      <td>138.00</td>\n",
       "      <td>2017-05-14</td>\n",
       "    </tr>\n",
       "    <tr>\n",
       "      <th>3933</th>\n",
       "      <td>0</td>\n",
       "      <td>160.00</td>\n",
       "      <td>2017-05-12</td>\n",
       "    </tr>\n",
       "  </tbody>\n",
       "</table>\n",
       "<p>3934 rows × 3 columns</p>\n",
       "</div>"
      ],
      "text/plain": [
       "      is_canceled     adr       date\n",
       "0               1  100.00 2017-04-26\n",
       "1               1  130.00 2017-05-30\n",
       "2               1  122.67 2017-06-15\n",
       "3               1  218.00 2017-07-31\n",
       "4               1   74.80 2017-03-27\n",
       "...           ...     ...        ...\n",
       "3929            0   60.00 2017-04-04\n",
       "3930            0  165.33 2017-07-28\n",
       "3931            0  160.00 2017-08-18\n",
       "3932            0  138.00 2017-05-14\n",
       "3933            0  160.00 2017-05-12\n",
       "\n",
       "[3934 rows x 3 columns]"
      ]
     },
     "execution_count": 206,
     "metadata": {},
     "output_type": "execute_result"
    }
   ],
   "source": [
    "#canceled_filter = df[df.is_canceled==1]\n",
    "#df['adr_cleaned']=canceled_filter.adr[df.adr <0]\n",
    "df1 = df[(df.is_canceled==1) & (df.adr>lower_bound_canceled) & (df.adr<upper_bound_canceled)]\n",
    "df2 = df[(df.is_canceled==0) & (df.adr>lower_bound_not_canceled) & (df.adr<upper_bound_not_canceled)]\n",
    "\n",
    "df = pd.concat([df1, df2], ignore_index=True)\n",
    "df\n",
    "\n"
   ]
  },
  {
   "cell_type": "markdown",
   "metadata": {},
   "source": [
    "Skewness is now much lower than before and we can run a Z-test to compare means"
   ]
  },
  {
   "cell_type": "code",
   "execution_count": 207,
   "metadata": {},
   "outputs": [
    {
     "name": "stdout",
     "output_type": "stream",
     "text": [
      "Canceled bookings skewness: 0.4388423472558201\n",
      "Not_Canceled bookings skewness: 0.3106972439564341\n"
     ]
    }
   ],
   "source": [
    "#Now we can see that skewness is much lower compared to before\n",
    "print('Canceled bookings skewness:', df[df.is_canceled==1].adr.skew())\n",
    "print('Not_Canceled bookings skewness:', df[df.is_canceled==0].adr.skew())"
   ]
  },
  {
   "cell_type": "markdown",
   "metadata": {},
   "source": [
    "# Z-test for Comparing Means"
   ]
  },
  {
   "cell_type": "markdown",
   "metadata": {},
   "source": [
    "Assumptions of test:\n",
    "\n",
    "The samples from each population must be independent of\n",
    "one another.\n",
    "\n",
    "The populations from which the samples are taken must be\n",
    "normally distributed and the population standard\n",
    "deviations must be known, or the sample sizes must be large\n",
    "(i.e. n1≥30 and n2≥30."
   ]
  },
  {
   "cell_type": "markdown",
   "metadata": {},
   "source": [
    "# Hypothesis:"
   ]
  },
  {
   "cell_type": "markdown",
   "metadata": {},
   "source": [
    "Null Hypothesis: The difference between the means of average daily rate for canceled and not canceled bookings is 0\n",
    "\n",
    "Alternative Hypothesis:  The difference between the means of average daily rate for canceled and not canceled bookings NOT 0\n"
   ]
  },
  {
   "cell_type": "code",
   "execution_count": 208,
   "metadata": {},
   "outputs": [],
   "source": [
    "import statsmodels.stats.weightstats as ws\n",
    "not_canceled_adr = ws.DescrStatsW(df[df.is_canceled==0].adr)\n",
    "canceled_adr = ws.DescrStatsW(df[df.is_canceled==1].adr)"
   ]
  },
  {
   "cell_type": "code",
   "execution_count": 209,
   "metadata": {},
   "outputs": [
    {
     "name": "stdout",
     "output_type": "stream",
     "text": [
      "3.2164 0.001298129425537898\n"
     ]
    }
   ],
   "source": [
    "cm_obj = ws.CompareMeans(canceled_adr, not_canceled_adr)\n",
    "zstat, z_pval = cm_obj.ztest_ind(value=0)\n",
    "print(zstat.round(4), z_pval)"
   ]
  },
  {
   "cell_type": "code",
   "execution_count": 210,
   "metadata": {},
   "outputs": [
    {
     "name": "stdout",
     "output_type": "stream",
     "text": [
      "Canceled bookings Mean: 112.79073921971266\n",
      "Not_Canceled bookings Mean: 108.10921148402781\n"
     ]
    }
   ],
   "source": [
    "#We can conclude that means for the average daily rate for canceled and not canceled bookings are signficantly different \n",
    "#Average daily rate is a factor for whether a booking may be canceled or not\n",
    "\n",
    "print('Canceled bookings Mean:', df[df.is_canceled==1].adr.mean())\n",
    "print('Not_Canceled bookings Mean:', df[df.is_canceled==0].adr.mean())"
   ]
  },
  {
   "cell_type": "markdown",
   "metadata": {},
   "source": [
    "# Conclusion:"
   ]
  },
  {
   "cell_type": "markdown",
   "metadata": {},
   "source": [
    "Bookings that were canceled had an average daily rate significantly higher than non canceled bookings (Z= 3.21, n1(canceled) =1461, n2(not_canceled)=2473, p<.05). We reject our previously stated null hypothesis and conclude that the means of canceled average daily rate and not canceled bookings average daily rate are not 0.  "
   ]
  },
  {
   "cell_type": "code",
   "execution_count": 212,
   "metadata": {},
   "outputs": [
    {
     "name": "stdout",
     "output_type": "stream",
     "text": [
      "Canceled bookings Mean: 1461\n",
      "Not_Canceled bookings Mean: 2473\n"
     ]
    }
   ],
   "source": [
    "print('Canceled bookings Mean:', df[df.is_canceled==1].adr.count())\n",
    "print('Not_Canceled bookings Mean:', df[df.is_canceled==0].adr.count())"
   ]
  }
 ],
 "metadata": {
  "kernelspec": {
   "display_name": "Python 3",
   "language": "python",
   "name": "python3"
  },
  "language_info": {
   "codemirror_mode": {
    "name": "ipython",
    "version": 3
   },
   "file_extension": ".py",
   "mimetype": "text/x-python",
   "name": "python",
   "nbconvert_exporter": "python",
   "pygments_lexer": "ipython3",
   "version": "3.8.5"
  }
 },
 "nbformat": 4,
 "nbformat_minor": 4
}
