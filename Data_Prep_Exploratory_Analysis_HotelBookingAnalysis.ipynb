{
 "cells": [
  {
   "cell_type": "markdown",
   "metadata": {},
   "source": [
    "# Focus:"
   ]
  },
  {
   "cell_type": "markdown",
   "metadata": {},
   "source": [
    "    The focus of this anaylsis is to provide insights on canceled and not canceled bookings using the given dataset, hotel_bookings which can be found on kaggle. \n",
    "\n",
    "Link to dataset: https://www.kaggle.com/jessemostipak/hotel-booking-demand"
   ]
  },
  {
   "cell_type": "markdown",
   "metadata": {},
   "source": [
    "# Importing Packages"
   ]
  },
  {
   "cell_type": "code",
   "execution_count": 1,
   "metadata": {},
   "outputs": [
    {
     "data": {
      "text/plain": [
       "(119390, 32)"
      ]
     },
     "execution_count": 1,
     "metadata": {},
     "output_type": "execute_result"
    }
   ],
   "source": [
    "#below are common packages/libraries I use\n",
    "import pandas as pd\n",
    "import numpy as np\n",
    "import scipy as scipy\n",
    "%matplotlib inline\n",
    "import matplotlib.pyplot as plt\n",
    "import seaborn as sns \n",
    "\n",
    "pd.set_option('display.max_columns', None) #display all columns when using pandas dataframe\n",
    "\n",
    "df = pd.read_csv('hotel_bookings.csv')\n",
    "\n",
    "df.shape"
   ]
  },
  {
   "cell_type": "markdown",
   "metadata": {},
   "source": [
    "# Creating Numpy arrays of numerical variables "
   ]
  },
  {
   "cell_type": "code",
   "execution_count": 2,
   "metadata": {},
   "outputs": [],
   "source": [
    "#create numpy arrays of numerical columns \n",
    "lead_time = np.array(df['lead_time'])\n",
    "is_canceled = np.array(df['is_canceled'])\n",
    "stays_in_weekend_nights = np.array(df['stays_in_weekend_nights'])\n",
    "stays_in_week_nights = np.array(df['stays_in_week_nights'])\n",
    "adults = np.array(df['adults'])\n",
    "children = np.array(df['children'])\n",
    "adults = np.array(df['adults'])\n",
    "babies = np.array(df['babies'])\n",
    "is_repeated_guest = np.array(df['is_repeated_guest'])\n",
    "previous_cancellations = np.array(df['previous_cancellations'])\n",
    "previous_bookings_not_canceled =np.array(df['previous_bookings_not_canceled'])\n",
    "booking_changes = np.array(df['booking_changes'])\n",
    "days_in_waiting_list = np.array(df['days_in_waiting_list'])\n",
    "adr = np.array(df['adr'])\n",
    "required_car_parking_spaces = np.array(df['required_car_parking_spaces'])\n",
    "total_of_special_requests  = np.array(df['total_of_special_requests'])"
   ]
  },
  {
   "cell_type": "markdown",
   "metadata": {},
   "source": [
    "# Removing missing values"
   ]
  },
  {
   "cell_type": "code",
   "execution_count": 3,
   "metadata": {},
   "outputs": [
    {
     "data": {
      "text/plain": [
       "hotel                             0\n",
       "is_canceled                       0\n",
       "lead_time                         0\n",
       "arrival_date_year                 0\n",
       "arrival_date_month                0\n",
       "arrival_date_week_number          0\n",
       "arrival_date_day_of_month         0\n",
       "stays_in_weekend_nights           0\n",
       "stays_in_week_nights              0\n",
       "adults                            0\n",
       "children                          0\n",
       "babies                            0\n",
       "meal                              0\n",
       "country                           0\n",
       "market_segment                    0\n",
       "distribution_channel              0\n",
       "is_repeated_guest                 0\n",
       "previous_cancellations            0\n",
       "previous_bookings_not_canceled    0\n",
       "reserved_room_type                0\n",
       "assigned_room_type                0\n",
       "booking_changes                   0\n",
       "deposit_type                      0\n",
       "days_in_waiting_list              0\n",
       "customer_type                     0\n",
       "adr                               0\n",
       "required_car_parking_spaces       0\n",
       "total_of_special_requests         0\n",
       "reservation_status                0\n",
       "reservation_status_date           0\n",
       "dtype: int64"
      ]
     },
     "execution_count": 3,
     "metadata": {},
     "output_type": "execute_result"
    }
   ],
   "source": [
    "# Removing Missing values\n",
    "\n",
    "df.isnull().sum() #checking to see which variables having missing and sum (children(4), country (488), agent(16340) and company(112593) having missing)\n",
    "df['children']=df.children.fillna(0) #fill missing rows for children with 0 \n",
    "df = df.drop(['agent','company'], axis=1) #drop agent(ID column) and company column as it contains too many missing values\n",
    "df = df.dropna(axis=0, subset=['country']) #since country only has 488/119390 missing values we are dropping rows with missing values\n",
    "df.isnull().sum() #dataset now contains no missing values\n"
   ]
  },
  {
   "cell_type": "markdown",
   "metadata": {},
   "source": [
    "# Creating a pandas datetime column"
   ]
  },
  {
   "cell_type": "markdown",
   "metadata": {},
   "source": [
    "We will only explore the most recent data (2017) in our dataset. Below I created a datetime column that ppython can read and then filtered only observations in 2017"
   ]
  },
  {
   "cell_type": "code",
   "execution_count": 4,
   "metadata": {},
   "outputs": [
    {
     "data": {
      "text/html": [
       "<div>\n",
       "<style scoped>\n",
       "    .dataframe tbody tr th:only-of-type {\n",
       "        vertical-align: middle;\n",
       "    }\n",
       "\n",
       "    .dataframe tbody tr th {\n",
       "        vertical-align: top;\n",
       "    }\n",
       "\n",
       "    .dataframe thead th {\n",
       "        text-align: right;\n",
       "    }\n",
       "</style>\n",
       "<table border=\"1\" class=\"dataframe\">\n",
       "  <thead>\n",
       "    <tr style=\"text-align: right;\">\n",
       "      <th></th>\n",
       "      <th>hotel</th>\n",
       "      <th>is_canceled</th>\n",
       "      <th>lead_time</th>\n",
       "      <th>arrival_date_year</th>\n",
       "      <th>arrival_date_month</th>\n",
       "      <th>arrival_date_week_number</th>\n",
       "      <th>arrival_date_day_of_month</th>\n",
       "      <th>stays_in_weekend_nights</th>\n",
       "      <th>stays_in_week_nights</th>\n",
       "      <th>adults</th>\n",
       "      <th>children</th>\n",
       "      <th>babies</th>\n",
       "      <th>meal</th>\n",
       "      <th>country</th>\n",
       "      <th>market_segment</th>\n",
       "      <th>distribution_channel</th>\n",
       "      <th>is_repeated_guest</th>\n",
       "      <th>previous_cancellations</th>\n",
       "      <th>previous_bookings_not_canceled</th>\n",
       "      <th>reserved_room_type</th>\n",
       "      <th>assigned_room_type</th>\n",
       "      <th>booking_changes</th>\n",
       "      <th>deposit_type</th>\n",
       "      <th>days_in_waiting_list</th>\n",
       "      <th>customer_type</th>\n",
       "      <th>adr</th>\n",
       "      <th>required_car_parking_spaces</th>\n",
       "      <th>total_of_special_requests</th>\n",
       "      <th>reservation_status</th>\n",
       "      <th>reservation_status_date</th>\n",
       "      <th>date</th>\n",
       "    </tr>\n",
       "  </thead>\n",
       "  <tbody>\n",
       "    <tr>\n",
       "      <th>9775</th>\n",
       "      <td>Resort Hotel</td>\n",
       "      <td>1</td>\n",
       "      <td>74</td>\n",
       "      <td>2017</td>\n",
       "      <td>January</td>\n",
       "      <td>1</td>\n",
       "      <td>1</td>\n",
       "      <td>1</td>\n",
       "      <td>0</td>\n",
       "      <td>2</td>\n",
       "      <td>0.0</td>\n",
       "      <td>0</td>\n",
       "      <td>BB</td>\n",
       "      <td>PRT</td>\n",
       "      <td>Online TA</td>\n",
       "      <td>TA/TO</td>\n",
       "      <td>0</td>\n",
       "      <td>0</td>\n",
       "      <td>0</td>\n",
       "      <td>A</td>\n",
       "      <td>A</td>\n",
       "      <td>0</td>\n",
       "      <td>No Deposit</td>\n",
       "      <td>0</td>\n",
       "      <td>Transient</td>\n",
       "      <td>57.60</td>\n",
       "      <td>0</td>\n",
       "      <td>0</td>\n",
       "      <td>Canceled</td>\n",
       "      <td>10/20/16</td>\n",
       "      <td>2017-01-01</td>\n",
       "    </tr>\n",
       "    <tr>\n",
       "      <th>9776</th>\n",
       "      <td>Resort Hotel</td>\n",
       "      <td>1</td>\n",
       "      <td>62</td>\n",
       "      <td>2017</td>\n",
       "      <td>January</td>\n",
       "      <td>1</td>\n",
       "      <td>1</td>\n",
       "      <td>2</td>\n",
       "      <td>2</td>\n",
       "      <td>2</td>\n",
       "      <td>0.0</td>\n",
       "      <td>0</td>\n",
       "      <td>BB</td>\n",
       "      <td>AUT</td>\n",
       "      <td>Online TA</td>\n",
       "      <td>TA/TO</td>\n",
       "      <td>0</td>\n",
       "      <td>0</td>\n",
       "      <td>0</td>\n",
       "      <td>A</td>\n",
       "      <td>A</td>\n",
       "      <td>0</td>\n",
       "      <td>No Deposit</td>\n",
       "      <td>0</td>\n",
       "      <td>Transient</td>\n",
       "      <td>51.50</td>\n",
       "      <td>0</td>\n",
       "      <td>1</td>\n",
       "      <td>Canceled</td>\n",
       "      <td>12/4/16</td>\n",
       "      <td>2017-01-01</td>\n",
       "    </tr>\n",
       "    <tr>\n",
       "      <th>9777</th>\n",
       "      <td>Resort Hotel</td>\n",
       "      <td>1</td>\n",
       "      <td>62</td>\n",
       "      <td>2017</td>\n",
       "      <td>January</td>\n",
       "      <td>1</td>\n",
       "      <td>1</td>\n",
       "      <td>2</td>\n",
       "      <td>2</td>\n",
       "      <td>2</td>\n",
       "      <td>0.0</td>\n",
       "      <td>0</td>\n",
       "      <td>BB</td>\n",
       "      <td>AUT</td>\n",
       "      <td>Online TA</td>\n",
       "      <td>TA/TO</td>\n",
       "      <td>0</td>\n",
       "      <td>0</td>\n",
       "      <td>0</td>\n",
       "      <td>A</td>\n",
       "      <td>A</td>\n",
       "      <td>0</td>\n",
       "      <td>No Deposit</td>\n",
       "      <td>0</td>\n",
       "      <td>Transient</td>\n",
       "      <td>51.50</td>\n",
       "      <td>0</td>\n",
       "      <td>1</td>\n",
       "      <td>Canceled</td>\n",
       "      <td>11/11/16</td>\n",
       "      <td>2017-01-01</td>\n",
       "    </tr>\n",
       "    <tr>\n",
       "      <th>9778</th>\n",
       "      <td>Resort Hotel</td>\n",
       "      <td>1</td>\n",
       "      <td>62</td>\n",
       "      <td>2017</td>\n",
       "      <td>January</td>\n",
       "      <td>1</td>\n",
       "      <td>1</td>\n",
       "      <td>2</td>\n",
       "      <td>2</td>\n",
       "      <td>2</td>\n",
       "      <td>0.0</td>\n",
       "      <td>0</td>\n",
       "      <td>BB</td>\n",
       "      <td>AUT</td>\n",
       "      <td>Online TA</td>\n",
       "      <td>TA/TO</td>\n",
       "      <td>0</td>\n",
       "      <td>0</td>\n",
       "      <td>0</td>\n",
       "      <td>A</td>\n",
       "      <td>A</td>\n",
       "      <td>0</td>\n",
       "      <td>No Deposit</td>\n",
       "      <td>0</td>\n",
       "      <td>Transient</td>\n",
       "      <td>51.50</td>\n",
       "      <td>0</td>\n",
       "      <td>1</td>\n",
       "      <td>Canceled</td>\n",
       "      <td>12/4/16</td>\n",
       "      <td>2017-01-01</td>\n",
       "    </tr>\n",
       "    <tr>\n",
       "      <th>9779</th>\n",
       "      <td>Resort Hotel</td>\n",
       "      <td>1</td>\n",
       "      <td>71</td>\n",
       "      <td>2017</td>\n",
       "      <td>January</td>\n",
       "      <td>1</td>\n",
       "      <td>1</td>\n",
       "      <td>2</td>\n",
       "      <td>2</td>\n",
       "      <td>1</td>\n",
       "      <td>0.0</td>\n",
       "      <td>0</td>\n",
       "      <td>BB</td>\n",
       "      <td>PRT</td>\n",
       "      <td>Online TA</td>\n",
       "      <td>TA/TO</td>\n",
       "      <td>0</td>\n",
       "      <td>0</td>\n",
       "      <td>0</td>\n",
       "      <td>A</td>\n",
       "      <td>A</td>\n",
       "      <td>0</td>\n",
       "      <td>No Deposit</td>\n",
       "      <td>0</td>\n",
       "      <td>Transient</td>\n",
       "      <td>32.22</td>\n",
       "      <td>0</td>\n",
       "      <td>1</td>\n",
       "      <td>Canceled</td>\n",
       "      <td>10/29/16</td>\n",
       "      <td>2017-01-01</td>\n",
       "    </tr>\n",
       "    <tr>\n",
       "      <th>...</th>\n",
       "      <td>...</td>\n",
       "      <td>...</td>\n",
       "      <td>...</td>\n",
       "      <td>...</td>\n",
       "      <td>...</td>\n",
       "      <td>...</td>\n",
       "      <td>...</td>\n",
       "      <td>...</td>\n",
       "      <td>...</td>\n",
       "      <td>...</td>\n",
       "      <td>...</td>\n",
       "      <td>...</td>\n",
       "      <td>...</td>\n",
       "      <td>...</td>\n",
       "      <td>...</td>\n",
       "      <td>...</td>\n",
       "      <td>...</td>\n",
       "      <td>...</td>\n",
       "      <td>...</td>\n",
       "      <td>...</td>\n",
       "      <td>...</td>\n",
       "      <td>...</td>\n",
       "      <td>...</td>\n",
       "      <td>...</td>\n",
       "      <td>...</td>\n",
       "      <td>...</td>\n",
       "      <td>...</td>\n",
       "      <td>...</td>\n",
       "      <td>...</td>\n",
       "      <td>...</td>\n",
       "      <td>...</td>\n",
       "    </tr>\n",
       "    <tr>\n",
       "      <th>119385</th>\n",
       "      <td>City Hotel</td>\n",
       "      <td>0</td>\n",
       "      <td>23</td>\n",
       "      <td>2017</td>\n",
       "      <td>August</td>\n",
       "      <td>35</td>\n",
       "      <td>30</td>\n",
       "      <td>2</td>\n",
       "      <td>5</td>\n",
       "      <td>2</td>\n",
       "      <td>0.0</td>\n",
       "      <td>0</td>\n",
       "      <td>BB</td>\n",
       "      <td>BEL</td>\n",
       "      <td>Offline TA/TO</td>\n",
       "      <td>TA/TO</td>\n",
       "      <td>0</td>\n",
       "      <td>0</td>\n",
       "      <td>0</td>\n",
       "      <td>A</td>\n",
       "      <td>A</td>\n",
       "      <td>0</td>\n",
       "      <td>No Deposit</td>\n",
       "      <td>0</td>\n",
       "      <td>Transient</td>\n",
       "      <td>96.14</td>\n",
       "      <td>0</td>\n",
       "      <td>0</td>\n",
       "      <td>Check-Out</td>\n",
       "      <td>9/6/17</td>\n",
       "      <td>2017-08-30</td>\n",
       "    </tr>\n",
       "    <tr>\n",
       "      <th>119386</th>\n",
       "      <td>City Hotel</td>\n",
       "      <td>0</td>\n",
       "      <td>102</td>\n",
       "      <td>2017</td>\n",
       "      <td>August</td>\n",
       "      <td>35</td>\n",
       "      <td>31</td>\n",
       "      <td>2</td>\n",
       "      <td>5</td>\n",
       "      <td>3</td>\n",
       "      <td>0.0</td>\n",
       "      <td>0</td>\n",
       "      <td>BB</td>\n",
       "      <td>FRA</td>\n",
       "      <td>Online TA</td>\n",
       "      <td>TA/TO</td>\n",
       "      <td>0</td>\n",
       "      <td>0</td>\n",
       "      <td>0</td>\n",
       "      <td>E</td>\n",
       "      <td>E</td>\n",
       "      <td>0</td>\n",
       "      <td>No Deposit</td>\n",
       "      <td>0</td>\n",
       "      <td>Transient</td>\n",
       "      <td>225.43</td>\n",
       "      <td>0</td>\n",
       "      <td>2</td>\n",
       "      <td>Check-Out</td>\n",
       "      <td>9/7/17</td>\n",
       "      <td>2017-08-31</td>\n",
       "    </tr>\n",
       "    <tr>\n",
       "      <th>119387</th>\n",
       "      <td>City Hotel</td>\n",
       "      <td>0</td>\n",
       "      <td>34</td>\n",
       "      <td>2017</td>\n",
       "      <td>August</td>\n",
       "      <td>35</td>\n",
       "      <td>31</td>\n",
       "      <td>2</td>\n",
       "      <td>5</td>\n",
       "      <td>2</td>\n",
       "      <td>0.0</td>\n",
       "      <td>0</td>\n",
       "      <td>BB</td>\n",
       "      <td>DEU</td>\n",
       "      <td>Online TA</td>\n",
       "      <td>TA/TO</td>\n",
       "      <td>0</td>\n",
       "      <td>0</td>\n",
       "      <td>0</td>\n",
       "      <td>D</td>\n",
       "      <td>D</td>\n",
       "      <td>0</td>\n",
       "      <td>No Deposit</td>\n",
       "      <td>0</td>\n",
       "      <td>Transient</td>\n",
       "      <td>157.71</td>\n",
       "      <td>0</td>\n",
       "      <td>4</td>\n",
       "      <td>Check-Out</td>\n",
       "      <td>9/7/17</td>\n",
       "      <td>2017-08-31</td>\n",
       "    </tr>\n",
       "    <tr>\n",
       "      <th>119388</th>\n",
       "      <td>City Hotel</td>\n",
       "      <td>0</td>\n",
       "      <td>109</td>\n",
       "      <td>2017</td>\n",
       "      <td>August</td>\n",
       "      <td>35</td>\n",
       "      <td>31</td>\n",
       "      <td>2</td>\n",
       "      <td>5</td>\n",
       "      <td>2</td>\n",
       "      <td>0.0</td>\n",
       "      <td>0</td>\n",
       "      <td>BB</td>\n",
       "      <td>GBR</td>\n",
       "      <td>Online TA</td>\n",
       "      <td>TA/TO</td>\n",
       "      <td>0</td>\n",
       "      <td>0</td>\n",
       "      <td>0</td>\n",
       "      <td>A</td>\n",
       "      <td>A</td>\n",
       "      <td>0</td>\n",
       "      <td>No Deposit</td>\n",
       "      <td>0</td>\n",
       "      <td>Transient</td>\n",
       "      <td>104.40</td>\n",
       "      <td>0</td>\n",
       "      <td>0</td>\n",
       "      <td>Check-Out</td>\n",
       "      <td>9/7/17</td>\n",
       "      <td>2017-08-31</td>\n",
       "    </tr>\n",
       "    <tr>\n",
       "      <th>119389</th>\n",
       "      <td>City Hotel</td>\n",
       "      <td>0</td>\n",
       "      <td>205</td>\n",
       "      <td>2017</td>\n",
       "      <td>August</td>\n",
       "      <td>35</td>\n",
       "      <td>29</td>\n",
       "      <td>2</td>\n",
       "      <td>7</td>\n",
       "      <td>2</td>\n",
       "      <td>0.0</td>\n",
       "      <td>0</td>\n",
       "      <td>HB</td>\n",
       "      <td>DEU</td>\n",
       "      <td>Online TA</td>\n",
       "      <td>TA/TO</td>\n",
       "      <td>0</td>\n",
       "      <td>0</td>\n",
       "      <td>0</td>\n",
       "      <td>A</td>\n",
       "      <td>A</td>\n",
       "      <td>0</td>\n",
       "      <td>No Deposit</td>\n",
       "      <td>0</td>\n",
       "      <td>Transient</td>\n",
       "      <td>151.20</td>\n",
       "      <td>0</td>\n",
       "      <td>2</td>\n",
       "      <td>Check-Out</td>\n",
       "      <td>9/7/17</td>\n",
       "      <td>2017-08-29</td>\n",
       "    </tr>\n",
       "  </tbody>\n",
       "</table>\n",
       "<p>40604 rows × 31 columns</p>\n",
       "</div>"
      ],
      "text/plain": [
       "               hotel  is_canceled  lead_time  arrival_date_year  \\\n",
       "9775    Resort Hotel            1         74               2017   \n",
       "9776    Resort Hotel            1         62               2017   \n",
       "9777    Resort Hotel            1         62               2017   \n",
       "9778    Resort Hotel            1         62               2017   \n",
       "9779    Resort Hotel            1         71               2017   \n",
       "...              ...          ...        ...                ...   \n",
       "119385    City Hotel            0         23               2017   \n",
       "119386    City Hotel            0        102               2017   \n",
       "119387    City Hotel            0         34               2017   \n",
       "119388    City Hotel            0        109               2017   \n",
       "119389    City Hotel            0        205               2017   \n",
       "\n",
       "       arrival_date_month  arrival_date_week_number  \\\n",
       "9775              January                         1   \n",
       "9776              January                         1   \n",
       "9777              January                         1   \n",
       "9778              January                         1   \n",
       "9779              January                         1   \n",
       "...                   ...                       ...   \n",
       "119385             August                        35   \n",
       "119386             August                        35   \n",
       "119387             August                        35   \n",
       "119388             August                        35   \n",
       "119389             August                        35   \n",
       "\n",
       "        arrival_date_day_of_month  stays_in_weekend_nights  \\\n",
       "9775                            1                        1   \n",
       "9776                            1                        2   \n",
       "9777                            1                        2   \n",
       "9778                            1                        2   \n",
       "9779                            1                        2   \n",
       "...                           ...                      ...   \n",
       "119385                         30                        2   \n",
       "119386                         31                        2   \n",
       "119387                         31                        2   \n",
       "119388                         31                        2   \n",
       "119389                         29                        2   \n",
       "\n",
       "        stays_in_week_nights  adults  children  babies meal country  \\\n",
       "9775                       0       2       0.0       0   BB     PRT   \n",
       "9776                       2       2       0.0       0   BB     AUT   \n",
       "9777                       2       2       0.0       0   BB     AUT   \n",
       "9778                       2       2       0.0       0   BB     AUT   \n",
       "9779                       2       1       0.0       0   BB     PRT   \n",
       "...                      ...     ...       ...     ...  ...     ...   \n",
       "119385                     5       2       0.0       0   BB     BEL   \n",
       "119386                     5       3       0.0       0   BB     FRA   \n",
       "119387                     5       2       0.0       0   BB     DEU   \n",
       "119388                     5       2       0.0       0   BB     GBR   \n",
       "119389                     7       2       0.0       0   HB     DEU   \n",
       "\n",
       "       market_segment distribution_channel  is_repeated_guest  \\\n",
       "9775        Online TA                TA/TO                  0   \n",
       "9776        Online TA                TA/TO                  0   \n",
       "9777        Online TA                TA/TO                  0   \n",
       "9778        Online TA                TA/TO                  0   \n",
       "9779        Online TA                TA/TO                  0   \n",
       "...               ...                  ...                ...   \n",
       "119385  Offline TA/TO                TA/TO                  0   \n",
       "119386      Online TA                TA/TO                  0   \n",
       "119387      Online TA                TA/TO                  0   \n",
       "119388      Online TA                TA/TO                  0   \n",
       "119389      Online TA                TA/TO                  0   \n",
       "\n",
       "        previous_cancellations  previous_bookings_not_canceled  \\\n",
       "9775                         0                               0   \n",
       "9776                         0                               0   \n",
       "9777                         0                               0   \n",
       "9778                         0                               0   \n",
       "9779                         0                               0   \n",
       "...                        ...                             ...   \n",
       "119385                       0                               0   \n",
       "119386                       0                               0   \n",
       "119387                       0                               0   \n",
       "119388                       0                               0   \n",
       "119389                       0                               0   \n",
       "\n",
       "       reserved_room_type assigned_room_type  booking_changes deposit_type  \\\n",
       "9775                    A                  A                0   No Deposit   \n",
       "9776                    A                  A                0   No Deposit   \n",
       "9777                    A                  A                0   No Deposit   \n",
       "9778                    A                  A                0   No Deposit   \n",
       "9779                    A                  A                0   No Deposit   \n",
       "...                   ...                ...              ...          ...   \n",
       "119385                  A                  A                0   No Deposit   \n",
       "119386                  E                  E                0   No Deposit   \n",
       "119387                  D                  D                0   No Deposit   \n",
       "119388                  A                  A                0   No Deposit   \n",
       "119389                  A                  A                0   No Deposit   \n",
       "\n",
       "        days_in_waiting_list customer_type     adr  \\\n",
       "9775                       0     Transient   57.60   \n",
       "9776                       0     Transient   51.50   \n",
       "9777                       0     Transient   51.50   \n",
       "9778                       0     Transient   51.50   \n",
       "9779                       0     Transient   32.22   \n",
       "...                      ...           ...     ...   \n",
       "119385                     0     Transient   96.14   \n",
       "119386                     0     Transient  225.43   \n",
       "119387                     0     Transient  157.71   \n",
       "119388                     0     Transient  104.40   \n",
       "119389                     0     Transient  151.20   \n",
       "\n",
       "        required_car_parking_spaces  total_of_special_requests  \\\n",
       "9775                              0                          0   \n",
       "9776                              0                          1   \n",
       "9777                              0                          1   \n",
       "9778                              0                          1   \n",
       "9779                              0                          1   \n",
       "...                             ...                        ...   \n",
       "119385                            0                          0   \n",
       "119386                            0                          2   \n",
       "119387                            0                          4   \n",
       "119388                            0                          0   \n",
       "119389                            0                          2   \n",
       "\n",
       "       reservation_status reservation_status_date       date  \n",
       "9775             Canceled                10/20/16 2017-01-01  \n",
       "9776             Canceled                 12/4/16 2017-01-01  \n",
       "9777             Canceled                11/11/16 2017-01-01  \n",
       "9778             Canceled                 12/4/16 2017-01-01  \n",
       "9779             Canceled                10/29/16 2017-01-01  \n",
       "...                   ...                     ...        ...  \n",
       "119385          Check-Out                  9/6/17 2017-08-30  \n",
       "119386          Check-Out                  9/7/17 2017-08-31  \n",
       "119387          Check-Out                  9/7/17 2017-08-31  \n",
       "119388          Check-Out                  9/7/17 2017-08-31  \n",
       "119389          Check-Out                  9/7/17 2017-08-29  \n",
       "\n",
       "[40604 rows x 31 columns]"
      ]
     },
     "execution_count": 4,
     "metadata": {},
     "output_type": "execute_result"
    }
   ],
   "source": [
    "#combining date columns into a single pandas date time format\n",
    "\n",
    "df['date'] =pd.to_datetime(df.arrival_date_year.astype(str) + df.arrival_date_month.astype(str) + df.arrival_date_day_of_month.astype(str), format='%Y%B%d')\n",
    "df['date'].dtype\n",
    "df #data frame now contains a pandas date time format date column\n",
    "\n",
    "df = df.loc[(df['date'] >= '2017-01-01')& (df['date'] <= '2017-12-31')]\n",
    "df\n",
    "\n"
   ]
  },
  {
   "cell_type": "markdown",
   "metadata": {},
   "source": [
    "# Descriptive Statistics"
   ]
  },
  {
   "cell_type": "markdown",
   "metadata": {},
   "source": [
    "Lead Time:\n",
    "\n",
    "-On average, consumers booked in advance 109 days ahead of their booking arrival (S.D. = 108 days). Half of the bookings in 2017, booked 81 days in advance to the bookings arrival date. 25% of the bookings in 2017 were booked 23 days in advance to the bookings arrival date."
   ]
  },
  {
   "cell_type": "markdown",
   "metadata": {},
   "source": [
    "Average Daily Rate:\n",
    "\n",
    "-On average, the mean daily rate for a booking was 114.7 dollars (S.D.=50.5 dollars). Half of the bookings had a average daily rate of 107.1 dollars and 25 percent had a average daily rate of 80 dollars"
   ]
  },
  {
   "cell_type": "code",
   "execution_count": 5,
   "metadata": {
    "scrolled": true
   },
   "outputs": [
    {
     "data": {
      "text/html": [
       "<div>\n",
       "<style scoped>\n",
       "    .dataframe tbody tr th:only-of-type {\n",
       "        vertical-align: middle;\n",
       "    }\n",
       "\n",
       "    .dataframe tbody tr th {\n",
       "        vertical-align: top;\n",
       "    }\n",
       "\n",
       "    .dataframe thead th {\n",
       "        text-align: right;\n",
       "    }\n",
       "</style>\n",
       "<table border=\"1\" class=\"dataframe\">\n",
       "  <thead>\n",
       "    <tr style=\"text-align: right;\">\n",
       "      <th></th>\n",
       "      <th>hotel</th>\n",
       "      <th>is_canceled</th>\n",
       "      <th>lead_time</th>\n",
       "      <th>arrival_date_year</th>\n",
       "      <th>arrival_date_month</th>\n",
       "      <th>arrival_date_week_number</th>\n",
       "      <th>arrival_date_day_of_month</th>\n",
       "      <th>stays_in_weekend_nights</th>\n",
       "      <th>stays_in_week_nights</th>\n",
       "      <th>adults</th>\n",
       "      <th>children</th>\n",
       "      <th>babies</th>\n",
       "      <th>meal</th>\n",
       "      <th>country</th>\n",
       "      <th>market_segment</th>\n",
       "      <th>distribution_channel</th>\n",
       "      <th>is_repeated_guest</th>\n",
       "      <th>previous_cancellations</th>\n",
       "      <th>previous_bookings_not_canceled</th>\n",
       "      <th>reserved_room_type</th>\n",
       "      <th>assigned_room_type</th>\n",
       "      <th>booking_changes</th>\n",
       "      <th>deposit_type</th>\n",
       "      <th>days_in_waiting_list</th>\n",
       "      <th>customer_type</th>\n",
       "      <th>adr</th>\n",
       "      <th>required_car_parking_spaces</th>\n",
       "      <th>total_of_special_requests</th>\n",
       "      <th>reservation_status</th>\n",
       "      <th>reservation_status_date</th>\n",
       "      <th>date</th>\n",
       "    </tr>\n",
       "  </thead>\n",
       "  <tbody>\n",
       "    <tr>\n",
       "      <th>count</th>\n",
       "      <td>40604</td>\n",
       "      <td>40604.000000</td>\n",
       "      <td>40604.000000</td>\n",
       "      <td>40604.0</td>\n",
       "      <td>40604</td>\n",
       "      <td>40604.000000</td>\n",
       "      <td>40604.000000</td>\n",
       "      <td>40604.000000</td>\n",
       "      <td>40604.000000</td>\n",
       "      <td>40604.000000</td>\n",
       "      <td>40604.000000</td>\n",
       "      <td>40604.000000</td>\n",
       "      <td>40604</td>\n",
       "      <td>40604</td>\n",
       "      <td>40604</td>\n",
       "      <td>40604</td>\n",
       "      <td>40604.000000</td>\n",
       "      <td>40604.000000</td>\n",
       "      <td>40604.000000</td>\n",
       "      <td>40604</td>\n",
       "      <td>40604</td>\n",
       "      <td>40604.000000</td>\n",
       "      <td>40604</td>\n",
       "      <td>40604.000000</td>\n",
       "      <td>40604</td>\n",
       "      <td>40604.000000</td>\n",
       "      <td>40604.000000</td>\n",
       "      <td>40604.000000</td>\n",
       "      <td>40604</td>\n",
       "      <td>40604</td>\n",
       "      <td>40604</td>\n",
       "    </tr>\n",
       "    <tr>\n",
       "      <th>unique</th>\n",
       "      <td>2</td>\n",
       "      <td>NaN</td>\n",
       "      <td>NaN</td>\n",
       "      <td>NaN</td>\n",
       "      <td>8</td>\n",
       "      <td>NaN</td>\n",
       "      <td>NaN</td>\n",
       "      <td>NaN</td>\n",
       "      <td>NaN</td>\n",
       "      <td>NaN</td>\n",
       "      <td>NaN</td>\n",
       "      <td>NaN</td>\n",
       "      <td>5</td>\n",
       "      <td>149</td>\n",
       "      <td>7</td>\n",
       "      <td>4</td>\n",
       "      <td>NaN</td>\n",
       "      <td>NaN</td>\n",
       "      <td>NaN</td>\n",
       "      <td>9</td>\n",
       "      <td>11</td>\n",
       "      <td>NaN</td>\n",
       "      <td>3</td>\n",
       "      <td>NaN</td>\n",
       "      <td>4</td>\n",
       "      <td>NaN</td>\n",
       "      <td>NaN</td>\n",
       "      <td>NaN</td>\n",
       "      <td>3</td>\n",
       "      <td>484</td>\n",
       "      <td>NaN</td>\n",
       "    </tr>\n",
       "    <tr>\n",
       "      <th>top</th>\n",
       "      <td>City Hotel</td>\n",
       "      <td>NaN</td>\n",
       "      <td>NaN</td>\n",
       "      <td>NaN</td>\n",
       "      <td>May</td>\n",
       "      <td>NaN</td>\n",
       "      <td>NaN</td>\n",
       "      <td>NaN</td>\n",
       "      <td>NaN</td>\n",
       "      <td>NaN</td>\n",
       "      <td>NaN</td>\n",
       "      <td>NaN</td>\n",
       "      <td>BB</td>\n",
       "      <td>PRT</td>\n",
       "      <td>Online TA</td>\n",
       "      <td>TA/TO</td>\n",
       "      <td>NaN</td>\n",
       "      <td>NaN</td>\n",
       "      <td>NaN</td>\n",
       "      <td>A</td>\n",
       "      <td>A</td>\n",
       "      <td>NaN</td>\n",
       "      <td>No Deposit</td>\n",
       "      <td>NaN</td>\n",
       "      <td>Transient</td>\n",
       "      <td>NaN</td>\n",
       "      <td>NaN</td>\n",
       "      <td>NaN</td>\n",
       "      <td>Check-Out</td>\n",
       "      <td>11/25/16</td>\n",
       "      <td>NaN</td>\n",
       "    </tr>\n",
       "    <tr>\n",
       "      <th>freq</th>\n",
       "      <td>27504</td>\n",
       "      <td>NaN</td>\n",
       "      <td>NaN</td>\n",
       "      <td>NaN</td>\n",
       "      <td>6313</td>\n",
       "      <td>NaN</td>\n",
       "      <td>NaN</td>\n",
       "      <td>NaN</td>\n",
       "      <td>NaN</td>\n",
       "      <td>NaN</td>\n",
       "      <td>NaN</td>\n",
       "      <td>NaN</td>\n",
       "      <td>30450</td>\n",
       "      <td>12962</td>\n",
       "      <td>22636</td>\n",
       "      <td>33588</td>\n",
       "      <td>NaN</td>\n",
       "      <td>NaN</td>\n",
       "      <td>NaN</td>\n",
       "      <td>27489</td>\n",
       "      <td>24889</td>\n",
       "      <td>NaN</td>\n",
       "      <td>36451</td>\n",
       "      <td>NaN</td>\n",
       "      <td>33717</td>\n",
       "      <td>NaN</td>\n",
       "      <td>NaN</td>\n",
       "      <td>NaN</td>\n",
       "      <td>24870</td>\n",
       "      <td>665</td>\n",
       "      <td>NaN</td>\n",
       "    </tr>\n",
       "    <tr>\n",
       "      <th>mean</th>\n",
       "      <td>NaN</td>\n",
       "      <td>0.387499</td>\n",
       "      <td>109.454413</td>\n",
       "      <td>2017.0</td>\n",
       "      <td>NaN</td>\n",
       "      <td>18.650281</td>\n",
       "      <td>15.718008</td>\n",
       "      <td>0.974411</td>\n",
       "      <td>2.604054</td>\n",
       "      <td>1.879199</td>\n",
       "      <td>0.126490</td>\n",
       "      <td>0.006477</td>\n",
       "      <td>NaN</td>\n",
       "      <td>NaN</td>\n",
       "      <td>NaN</td>\n",
       "      <td>NaN</td>\n",
       "      <td>0.034258</td>\n",
       "      <td>0.011772</td>\n",
       "      <td>0.167003</td>\n",
       "      <td>NaN</td>\n",
       "      <td>NaN</td>\n",
       "      <td>0.239632</td>\n",
       "      <td>NaN</td>\n",
       "      <td>0.235666</td>\n",
       "      <td>NaN</td>\n",
       "      <td>114.777777</td>\n",
       "      <td>0.054748</td>\n",
       "      <td>0.676830</td>\n",
       "      <td>NaN</td>\n",
       "      <td>NaN</td>\n",
       "      <td>2017-05-07 15:26:19.942863360</td>\n",
       "    </tr>\n",
       "    <tr>\n",
       "      <th>min</th>\n",
       "      <td>NaN</td>\n",
       "      <td>0.000000</td>\n",
       "      <td>0.000000</td>\n",
       "      <td>2017.0</td>\n",
       "      <td>NaN</td>\n",
       "      <td>1.000000</td>\n",
       "      <td>1.000000</td>\n",
       "      <td>0.000000</td>\n",
       "      <td>0.000000</td>\n",
       "      <td>0.000000</td>\n",
       "      <td>0.000000</td>\n",
       "      <td>0.000000</td>\n",
       "      <td>NaN</td>\n",
       "      <td>NaN</td>\n",
       "      <td>NaN</td>\n",
       "      <td>NaN</td>\n",
       "      <td>0.000000</td>\n",
       "      <td>0.000000</td>\n",
       "      <td>0.000000</td>\n",
       "      <td>NaN</td>\n",
       "      <td>NaN</td>\n",
       "      <td>0.000000</td>\n",
       "      <td>NaN</td>\n",
       "      <td>0.000000</td>\n",
       "      <td>NaN</td>\n",
       "      <td>-6.380000</td>\n",
       "      <td>0.000000</td>\n",
       "      <td>0.000000</td>\n",
       "      <td>NaN</td>\n",
       "      <td>NaN</td>\n",
       "      <td>2017-01-01 00:00:00</td>\n",
       "    </tr>\n",
       "    <tr>\n",
       "      <th>25%</th>\n",
       "      <td>NaN</td>\n",
       "      <td>0.000000</td>\n",
       "      <td>23.000000</td>\n",
       "      <td>2017.0</td>\n",
       "      <td>NaN</td>\n",
       "      <td>11.000000</td>\n",
       "      <td>8.000000</td>\n",
       "      <td>0.000000</td>\n",
       "      <td>1.000000</td>\n",
       "      <td>2.000000</td>\n",
       "      <td>0.000000</td>\n",
       "      <td>0.000000</td>\n",
       "      <td>NaN</td>\n",
       "      <td>NaN</td>\n",
       "      <td>NaN</td>\n",
       "      <td>NaN</td>\n",
       "      <td>0.000000</td>\n",
       "      <td>0.000000</td>\n",
       "      <td>0.000000</td>\n",
       "      <td>NaN</td>\n",
       "      <td>NaN</td>\n",
       "      <td>0.000000</td>\n",
       "      <td>NaN</td>\n",
       "      <td>0.000000</td>\n",
       "      <td>NaN</td>\n",
       "      <td>80.000000</td>\n",
       "      <td>0.000000</td>\n",
       "      <td>0.000000</td>\n",
       "      <td>NaN</td>\n",
       "      <td>NaN</td>\n",
       "      <td>2017-03-15 00:00:00</td>\n",
       "    </tr>\n",
       "    <tr>\n",
       "      <th>50%</th>\n",
       "      <td>NaN</td>\n",
       "      <td>0.000000</td>\n",
       "      <td>81.000000</td>\n",
       "      <td>2017.0</td>\n",
       "      <td>NaN</td>\n",
       "      <td>19.000000</td>\n",
       "      <td>16.000000</td>\n",
       "      <td>1.000000</td>\n",
       "      <td>2.000000</td>\n",
       "      <td>2.000000</td>\n",
       "      <td>0.000000</td>\n",
       "      <td>0.000000</td>\n",
       "      <td>NaN</td>\n",
       "      <td>NaN</td>\n",
       "      <td>NaN</td>\n",
       "      <td>NaN</td>\n",
       "      <td>0.000000</td>\n",
       "      <td>0.000000</td>\n",
       "      <td>0.000000</td>\n",
       "      <td>NaN</td>\n",
       "      <td>NaN</td>\n",
       "      <td>0.000000</td>\n",
       "      <td>NaN</td>\n",
       "      <td>0.000000</td>\n",
       "      <td>NaN</td>\n",
       "      <td>107.100000</td>\n",
       "      <td>0.000000</td>\n",
       "      <td>0.000000</td>\n",
       "      <td>NaN</td>\n",
       "      <td>NaN</td>\n",
       "      <td>2017-05-09 00:00:00</td>\n",
       "    </tr>\n",
       "    <tr>\n",
       "      <th>75%</th>\n",
       "      <td>NaN</td>\n",
       "      <td>1.000000</td>\n",
       "      <td>165.000000</td>\n",
       "      <td>2017.0</td>\n",
       "      <td>NaN</td>\n",
       "      <td>26.000000</td>\n",
       "      <td>23.000000</td>\n",
       "      <td>2.000000</td>\n",
       "      <td>3.000000</td>\n",
       "      <td>2.000000</td>\n",
       "      <td>0.000000</td>\n",
       "      <td>0.000000</td>\n",
       "      <td>NaN</td>\n",
       "      <td>NaN</td>\n",
       "      <td>NaN</td>\n",
       "      <td>NaN</td>\n",
       "      <td>0.000000</td>\n",
       "      <td>0.000000</td>\n",
       "      <td>0.000000</td>\n",
       "      <td>NaN</td>\n",
       "      <td>NaN</td>\n",
       "      <td>0.000000</td>\n",
       "      <td>NaN</td>\n",
       "      <td>0.000000</td>\n",
       "      <td>NaN</td>\n",
       "      <td>140.000000</td>\n",
       "      <td>0.000000</td>\n",
       "      <td>1.000000</td>\n",
       "      <td>NaN</td>\n",
       "      <td>NaN</td>\n",
       "      <td>2017-07-01 00:00:00</td>\n",
       "    </tr>\n",
       "    <tr>\n",
       "      <th>max</th>\n",
       "      <td>NaN</td>\n",
       "      <td>1.000000</td>\n",
       "      <td>629.000000</td>\n",
       "      <td>2017.0</td>\n",
       "      <td>NaN</td>\n",
       "      <td>35.000000</td>\n",
       "      <td>31.000000</td>\n",
       "      <td>16.000000</td>\n",
       "      <td>40.000000</td>\n",
       "      <td>4.000000</td>\n",
       "      <td>3.000000</td>\n",
       "      <td>2.000000</td>\n",
       "      <td>NaN</td>\n",
       "      <td>NaN</td>\n",
       "      <td>NaN</td>\n",
       "      <td>NaN</td>\n",
       "      <td>1.000000</td>\n",
       "      <td>6.000000</td>\n",
       "      <td>72.000000</td>\n",
       "      <td>NaN</td>\n",
       "      <td>NaN</td>\n",
       "      <td>18.000000</td>\n",
       "      <td>NaN</td>\n",
       "      <td>223.000000</td>\n",
       "      <td>NaN</td>\n",
       "      <td>510.000000</td>\n",
       "      <td>8.000000</td>\n",
       "      <td>5.000000</td>\n",
       "      <td>NaN</td>\n",
       "      <td>NaN</td>\n",
       "      <td>2017-08-31 00:00:00</td>\n",
       "    </tr>\n",
       "    <tr>\n",
       "      <th>std</th>\n",
       "      <td>NaN</td>\n",
       "      <td>0.487185</td>\n",
       "      <td>107.956350</td>\n",
       "      <td>0.0</td>\n",
       "      <td>NaN</td>\n",
       "      <td>9.419270</td>\n",
       "      <td>8.789441</td>\n",
       "      <td>1.014614</td>\n",
       "      <td>1.974116</td>\n",
       "      <td>0.495341</td>\n",
       "      <td>0.436448</td>\n",
       "      <td>0.081742</td>\n",
       "      <td>NaN</td>\n",
       "      <td>NaN</td>\n",
       "      <td>NaN</td>\n",
       "      <td>NaN</td>\n",
       "      <td>0.181893</td>\n",
       "      <td>0.184249</td>\n",
       "      <td>1.755633</td>\n",
       "      <td>NaN</td>\n",
       "      <td>NaN</td>\n",
       "      <td>0.683712</td>\n",
       "      <td>NaN</td>\n",
       "      <td>4.463376</td>\n",
       "      <td>NaN</td>\n",
       "      <td>52.204623</td>\n",
       "      <td>0.235471</td>\n",
       "      <td>0.846599</td>\n",
       "      <td>NaN</td>\n",
       "      <td>NaN</td>\n",
       "      <td>NaN</td>\n",
       "    </tr>\n",
       "  </tbody>\n",
       "</table>\n",
       "</div>"
      ],
      "text/plain": [
       "             hotel   is_canceled     lead_time  arrival_date_year  \\\n",
       "count        40604  40604.000000  40604.000000            40604.0   \n",
       "unique           2           NaN           NaN                NaN   \n",
       "top     City Hotel           NaN           NaN                NaN   \n",
       "freq         27504           NaN           NaN                NaN   \n",
       "mean           NaN      0.387499    109.454413             2017.0   \n",
       "min            NaN      0.000000      0.000000             2017.0   \n",
       "25%            NaN      0.000000     23.000000             2017.0   \n",
       "50%            NaN      0.000000     81.000000             2017.0   \n",
       "75%            NaN      1.000000    165.000000             2017.0   \n",
       "max            NaN      1.000000    629.000000             2017.0   \n",
       "std            NaN      0.487185    107.956350                0.0   \n",
       "\n",
       "       arrival_date_month  arrival_date_week_number  \\\n",
       "count               40604              40604.000000   \n",
       "unique                  8                       NaN   \n",
       "top                   May                       NaN   \n",
       "freq                 6313                       NaN   \n",
       "mean                  NaN                 18.650281   \n",
       "min                   NaN                  1.000000   \n",
       "25%                   NaN                 11.000000   \n",
       "50%                   NaN                 19.000000   \n",
       "75%                   NaN                 26.000000   \n",
       "max                   NaN                 35.000000   \n",
       "std                   NaN                  9.419270   \n",
       "\n",
       "        arrival_date_day_of_month  stays_in_weekend_nights  \\\n",
       "count                40604.000000             40604.000000   \n",
       "unique                        NaN                      NaN   \n",
       "top                           NaN                      NaN   \n",
       "freq                          NaN                      NaN   \n",
       "mean                    15.718008                 0.974411   \n",
       "min                      1.000000                 0.000000   \n",
       "25%                      8.000000                 0.000000   \n",
       "50%                     16.000000                 1.000000   \n",
       "75%                     23.000000                 2.000000   \n",
       "max                     31.000000                16.000000   \n",
       "std                      8.789441                 1.014614   \n",
       "\n",
       "        stays_in_week_nights        adults      children        babies   meal  \\\n",
       "count           40604.000000  40604.000000  40604.000000  40604.000000  40604   \n",
       "unique                   NaN           NaN           NaN           NaN      5   \n",
       "top                      NaN           NaN           NaN           NaN     BB   \n",
       "freq                     NaN           NaN           NaN           NaN  30450   \n",
       "mean                2.604054      1.879199      0.126490      0.006477    NaN   \n",
       "min                 0.000000      0.000000      0.000000      0.000000    NaN   \n",
       "25%                 1.000000      2.000000      0.000000      0.000000    NaN   \n",
       "50%                 2.000000      2.000000      0.000000      0.000000    NaN   \n",
       "75%                 3.000000      2.000000      0.000000      0.000000    NaN   \n",
       "max                40.000000      4.000000      3.000000      2.000000    NaN   \n",
       "std                 1.974116      0.495341      0.436448      0.081742    NaN   \n",
       "\n",
       "       country market_segment distribution_channel  is_repeated_guest  \\\n",
       "count    40604          40604                40604       40604.000000   \n",
       "unique     149              7                    4                NaN   \n",
       "top        PRT      Online TA                TA/TO                NaN   \n",
       "freq     12962          22636                33588                NaN   \n",
       "mean       NaN            NaN                  NaN           0.034258   \n",
       "min        NaN            NaN                  NaN           0.000000   \n",
       "25%        NaN            NaN                  NaN           0.000000   \n",
       "50%        NaN            NaN                  NaN           0.000000   \n",
       "75%        NaN            NaN                  NaN           0.000000   \n",
       "max        NaN            NaN                  NaN           1.000000   \n",
       "std        NaN            NaN                  NaN           0.181893   \n",
       "\n",
       "        previous_cancellations  previous_bookings_not_canceled  \\\n",
       "count             40604.000000                    40604.000000   \n",
       "unique                     NaN                             NaN   \n",
       "top                        NaN                             NaN   \n",
       "freq                       NaN                             NaN   \n",
       "mean                  0.011772                        0.167003   \n",
       "min                   0.000000                        0.000000   \n",
       "25%                   0.000000                        0.000000   \n",
       "50%                   0.000000                        0.000000   \n",
       "75%                   0.000000                        0.000000   \n",
       "max                   6.000000                       72.000000   \n",
       "std                   0.184249                        1.755633   \n",
       "\n",
       "       reserved_room_type assigned_room_type  booking_changes deposit_type  \\\n",
       "count               40604              40604     40604.000000        40604   \n",
       "unique                  9                 11              NaN            3   \n",
       "top                     A                  A              NaN   No Deposit   \n",
       "freq                27489              24889              NaN        36451   \n",
       "mean                  NaN                NaN         0.239632          NaN   \n",
       "min                   NaN                NaN         0.000000          NaN   \n",
       "25%                   NaN                NaN         0.000000          NaN   \n",
       "50%                   NaN                NaN         0.000000          NaN   \n",
       "75%                   NaN                NaN         0.000000          NaN   \n",
       "max                   NaN                NaN        18.000000          NaN   \n",
       "std                   NaN                NaN         0.683712          NaN   \n",
       "\n",
       "        days_in_waiting_list customer_type           adr  \\\n",
       "count           40604.000000         40604  40604.000000   \n",
       "unique                   NaN             4           NaN   \n",
       "top                      NaN     Transient           NaN   \n",
       "freq                     NaN         33717           NaN   \n",
       "mean                0.235666           NaN    114.777777   \n",
       "min                 0.000000           NaN     -6.380000   \n",
       "25%                 0.000000           NaN     80.000000   \n",
       "50%                 0.000000           NaN    107.100000   \n",
       "75%                 0.000000           NaN    140.000000   \n",
       "max               223.000000           NaN    510.000000   \n",
       "std                 4.463376           NaN     52.204623   \n",
       "\n",
       "        required_car_parking_spaces  total_of_special_requests  \\\n",
       "count                  40604.000000               40604.000000   \n",
       "unique                          NaN                        NaN   \n",
       "top                             NaN                        NaN   \n",
       "freq                            NaN                        NaN   \n",
       "mean                       0.054748                   0.676830   \n",
       "min                        0.000000                   0.000000   \n",
       "25%                        0.000000                   0.000000   \n",
       "50%                        0.000000                   0.000000   \n",
       "75%                        0.000000                   1.000000   \n",
       "max                        8.000000                   5.000000   \n",
       "std                        0.235471                   0.846599   \n",
       "\n",
       "       reservation_status reservation_status_date  \\\n",
       "count               40604                   40604   \n",
       "unique                  3                     484   \n",
       "top             Check-Out                11/25/16   \n",
       "freq                24870                     665   \n",
       "mean                  NaN                     NaN   \n",
       "min                   NaN                     NaN   \n",
       "25%                   NaN                     NaN   \n",
       "50%                   NaN                     NaN   \n",
       "75%                   NaN                     NaN   \n",
       "max                   NaN                     NaN   \n",
       "std                   NaN                     NaN   \n",
       "\n",
       "                                 date  \n",
       "count                           40604  \n",
       "unique                            NaN  \n",
       "top                               NaN  \n",
       "freq                              NaN  \n",
       "mean    2017-05-07 15:26:19.942863360  \n",
       "min               2017-01-01 00:00:00  \n",
       "25%               2017-03-15 00:00:00  \n",
       "50%               2017-05-09 00:00:00  \n",
       "75%               2017-07-01 00:00:00  \n",
       "max               2017-08-31 00:00:00  \n",
       "std                               NaN  "
      ]
     },
     "execution_count": 5,
     "metadata": {},
     "output_type": "execute_result"
    }
   ],
   "source": [
    "#excluding objects quickly describe the dataset \n",
    "\n",
    "df.describe(include='all', datetime_is_numeric=True)"
   ]
  },
  {
   "cell_type": "markdown",
   "metadata": {},
   "source": [
    "# Correlation Heatmap"
   ]
  },
  {
   "cell_type": "markdown",
   "metadata": {},
   "source": [
    "The heatmap below shows there are no strong positive or negative correlations amongst numerical variables in 2017"
   ]
  },
  {
   "cell_type": "code",
   "execution_count": 6,
   "metadata": {},
   "outputs": [
    {
     "data": {
      "text/plain": [
       "(array([ 0.5,  1.5,  2.5,  3.5,  4.5,  5.5,  6.5,  7.5,  8.5,  9.5, 10.5,\n",
       "        11.5, 12.5]),\n",
       " [Text(0.5, 0, 'lead_time'),\n",
       "  Text(1.5, 0, 'stays_in_weekend_nights'),\n",
       "  Text(2.5, 0, 'stays_in_week_nights'),\n",
       "  Text(3.5, 0, 'adults'),\n",
       "  Text(4.5, 0, 'children'),\n",
       "  Text(5.5, 0, 'babies'),\n",
       "  Text(6.5, 0, 'previous_cancellations'),\n",
       "  Text(7.5, 0, 'previous_bookings_not_canceled'),\n",
       "  Text(8.5, 0, 'booking_changes'),\n",
       "  Text(9.5, 0, 'days_in_waiting_list'),\n",
       "  Text(10.5, 0, 'adr'),\n",
       "  Text(11.5, 0, 'required_car_parking_spaces'),\n",
       "  Text(12.5, 0, 'total_of_special_requests')])"
      ]
     },
     "execution_count": 6,
     "metadata": {},
     "output_type": "execute_result"
    },
    {
     "data": {
      "image/png": "[encoded data removed]",
      "text/plain": [
       "<Figure size 1080x720 with 2 Axes>"
      ]
     },
     "metadata": {
      "needs_background": "light"
     },
     "output_type": "display_data"
    }
   ],
   "source": [
    "#Now let's look at a heatmap matrix for correlations amongst variables\n",
    "cols_corr = df[['lead_time', 'stays_in_weekend_nights', 'stays_in_week_nights', 'adults', \n",
    "                'children', 'babies', 'previous_cancellations','previous_bookings_not_canceled',\n",
    "               'booking_changes','days_in_waiting_list','adr','required_car_parking_spaces','total_of_special_requests']]\n",
    "\n",
    "\n",
    "\n",
    "plt.figure(figsize=(15, 10))\n",
    "correlations = cols_corr.corr()\n",
    "sns.heatmap(data = correlations, square = True, cmap='bwr', vmin=-1)\n",
    "\n",
    "plt.yticks(rotation=0)\n",
    "plt.xticks(rotation=90)\n"
   ]
  },
  {
   "cell_type": "markdown",
   "metadata": {},
   "source": [
    "# Correlation Matrix\n"
   ]
  },
  {
   "cell_type": "markdown",
   "metadata": {},
   "source": [
    "To confirm our quick glance at the heatmap above amongst numerical variables let's take one more look at a correlation matrix to make sure there are no positive or negative strong correlations."
   ]
  },
  {
   "cell_type": "code",
   "execution_count": 7,
   "metadata": {},
   "outputs": [
    {
     "data": {
      "text/html": [
       "<div>\n",
       "<style scoped>\n",
       "    .dataframe tbody tr th:only-of-type {\n",
       "        vertical-align: middle;\n",
       "    }\n",
       "\n",
       "    .dataframe tbody tr th {\n",
       "        vertical-align: top;\n",
       "    }\n",
       "\n",
       "    .dataframe thead th {\n",
       "        text-align: right;\n",
       "    }\n",
       "</style>\n",
       "<table border=\"1\" class=\"dataframe\">\n",
       "  <thead>\n",
       "    <tr style=\"text-align: right;\">\n",
       "      <th></th>\n",
       "      <th>lead_time</th>\n",
       "      <th>stays_in_weekend_nights</th>\n",
       "      <th>stays_in_week_nights</th>\n",
       "      <th>adults</th>\n",
       "      <th>children</th>\n",
       "      <th>babies</th>\n",
       "      <th>previous_cancellations</th>\n",
       "      <th>previous_bookings_not_canceled</th>\n",
       "      <th>booking_changes</th>\n",
       "      <th>days_in_waiting_list</th>\n",
       "      <th>adr</th>\n",
       "      <th>required_car_parking_spaces</th>\n",
       "      <th>total_of_special_requests</th>\n",
       "    </tr>\n",
       "  </thead>\n",
       "  <tbody>\n",
       "    <tr>\n",
       "      <th>lead_time</th>\n",
       "      <td>1.000000</td>\n",
       "      <td>0.138564</td>\n",
       "      <td>0.189551</td>\n",
       "      <td>0.139655</td>\n",
       "      <td>0.006820</td>\n",
       "      <td>-0.004302</td>\n",
       "      <td>-0.054699</td>\n",
       "      <td>-0.083386</td>\n",
       "      <td>0.019462</td>\n",
       "      <td>0.044449</td>\n",
       "      <td>-0.014330</td>\n",
       "      <td>-0.101640</td>\n",
       "      <td>-0.013192</td>\n",
       "    </tr>\n",
       "    <tr>\n",
       "      <th>stays_in_weekend_nights</th>\n",
       "      <td>0.138564</td>\n",
       "      <td>1.000000</td>\n",
       "      <td>0.502058</td>\n",
       "      <td>0.095681</td>\n",
       "      <td>0.057810</td>\n",
       "      <td>0.019816</td>\n",
       "      <td>-0.038176</td>\n",
       "      <td>-0.053611</td>\n",
       "      <td>0.048710</td>\n",
       "      <td>0.008592</td>\n",
       "      <td>0.046741</td>\n",
       "      <td>-0.025371</td>\n",
       "      <td>0.048979</td>\n",
       "    </tr>\n",
       "    <tr>\n",
       "      <th>stays_in_week_nights</th>\n",
       "      <td>0.189551</td>\n",
       "      <td>0.502058</td>\n",
       "      <td>1.000000</td>\n",
       "      <td>0.118423</td>\n",
       "      <td>0.052241</td>\n",
       "      <td>0.023983</td>\n",
       "      <td>-0.035666</td>\n",
       "      <td>-0.051066</td>\n",
       "      <td>0.076210</td>\n",
       "      <td>0.012659</td>\n",
       "      <td>0.059592</td>\n",
       "      <td>-0.032839</td>\n",
       "      <td>0.042299</td>\n",
       "    </tr>\n",
       "    <tr>\n",
       "      <th>adults</th>\n",
       "      <td>0.139655</td>\n",
       "      <td>0.095681</td>\n",
       "      <td>0.118423</td>\n",
       "      <td>1.000000</td>\n",
       "      <td>0.039238</td>\n",
       "      <td>0.018717</td>\n",
       "      <td>-0.096678</td>\n",
       "      <td>-0.138937</td>\n",
       "      <td>-0.065712</td>\n",
       "      <td>-0.008489</td>\n",
       "      <td>0.342427</td>\n",
       "      <td>0.003493</td>\n",
       "      <td>0.123265</td>\n",
       "    </tr>\n",
       "    <tr>\n",
       "      <th>children</th>\n",
       "      <td>0.006820</td>\n",
       "      <td>0.057810</td>\n",
       "      <td>0.052241</td>\n",
       "      <td>0.039238</td>\n",
       "      <td>1.000000</td>\n",
       "      <td>0.025359</td>\n",
       "      <td>-0.018518</td>\n",
       "      <td>-0.024773</td>\n",
       "      <td>0.044342</td>\n",
       "      <td>-0.015303</td>\n",
       "      <td>0.367300</td>\n",
       "      <td>0.038538</td>\n",
       "      <td>0.050311</td>\n",
       "    </tr>\n",
       "    <tr>\n",
       "      <th>babies</th>\n",
       "      <td>-0.004302</td>\n",
       "      <td>0.019816</td>\n",
       "      <td>0.023983</td>\n",
       "      <td>0.018717</td>\n",
       "      <td>0.025359</td>\n",
       "      <td>1.000000</td>\n",
       "      <td>-0.003428</td>\n",
       "      <td>-0.006508</td>\n",
       "      <td>0.098262</td>\n",
       "      <td>-0.002294</td>\n",
       "      <td>0.020952</td>\n",
       "      <td>0.049393</td>\n",
       "      <td>0.083633</td>\n",
       "    </tr>\n",
       "    <tr>\n",
       "      <th>previous_cancellations</th>\n",
       "      <td>-0.054699</td>\n",
       "      <td>-0.038176</td>\n",
       "      <td>-0.035666</td>\n",
       "      <td>-0.096678</td>\n",
       "      <td>-0.018518</td>\n",
       "      <td>-0.003428</td>\n",
       "      <td>1.000000</td>\n",
       "      <td>0.768935</td>\n",
       "      <td>0.004195</td>\n",
       "      <td>-0.003134</td>\n",
       "      <td>-0.065020</td>\n",
       "      <td>0.029423</td>\n",
       "      <td>0.057232</td>\n",
       "    </tr>\n",
       "    <tr>\n",
       "      <th>previous_bookings_not_canceled</th>\n",
       "      <td>-0.083386</td>\n",
       "      <td>-0.053611</td>\n",
       "      <td>-0.051066</td>\n",
       "      <td>-0.138937</td>\n",
       "      <td>-0.024773</td>\n",
       "      <td>-0.006508</td>\n",
       "      <td>0.768935</td>\n",
       "      <td>1.000000</td>\n",
       "      <td>0.008783</td>\n",
       "      <td>-0.003068</td>\n",
       "      <td>-0.088479</td>\n",
       "      <td>0.070404</td>\n",
       "      <td>0.054457</td>\n",
       "    </tr>\n",
       "    <tr>\n",
       "      <th>booking_changes</th>\n",
       "      <td>0.019462</td>\n",
       "      <td>0.048710</td>\n",
       "      <td>0.076210</td>\n",
       "      <td>-0.065712</td>\n",
       "      <td>0.044342</td>\n",
       "      <td>0.098262</td>\n",
       "      <td>0.004195</td>\n",
       "      <td>0.008783</td>\n",
       "      <td>1.000000</td>\n",
       "      <td>0.020685</td>\n",
       "      <td>0.021067</td>\n",
       "      <td>0.069957</td>\n",
       "      <td>0.065077</td>\n",
       "    </tr>\n",
       "    <tr>\n",
       "      <th>days_in_waiting_list</th>\n",
       "      <td>0.044449</td>\n",
       "      <td>0.008592</td>\n",
       "      <td>0.012659</td>\n",
       "      <td>-0.008489</td>\n",
       "      <td>-0.015303</td>\n",
       "      <td>-0.002294</td>\n",
       "      <td>-0.003134</td>\n",
       "      <td>-0.003068</td>\n",
       "      <td>0.020685</td>\n",
       "      <td>1.000000</td>\n",
       "      <td>-0.029235</td>\n",
       "      <td>0.020695</td>\n",
       "      <td>-0.033212</td>\n",
       "    </tr>\n",
       "    <tr>\n",
       "      <th>adr</th>\n",
       "      <td>-0.014330</td>\n",
       "      <td>0.046741</td>\n",
       "      <td>0.059592</td>\n",
       "      <td>0.342427</td>\n",
       "      <td>0.367300</td>\n",
       "      <td>0.020952</td>\n",
       "      <td>-0.065020</td>\n",
       "      <td>-0.088479</td>\n",
       "      <td>0.021067</td>\n",
       "      <td>-0.029235</td>\n",
       "      <td>1.000000</td>\n",
       "      <td>0.041886</td>\n",
       "      <td>0.163211</td>\n",
       "    </tr>\n",
       "    <tr>\n",
       "      <th>required_car_parking_spaces</th>\n",
       "      <td>-0.101640</td>\n",
       "      <td>-0.025371</td>\n",
       "      <td>-0.032839</td>\n",
       "      <td>0.003493</td>\n",
       "      <td>0.038538</td>\n",
       "      <td>0.049393</td>\n",
       "      <td>0.029423</td>\n",
       "      <td>0.070404</td>\n",
       "      <td>0.069957</td>\n",
       "      <td>0.020695</td>\n",
       "      <td>0.041886</td>\n",
       "      <td>1.000000</td>\n",
       "      <td>0.081837</td>\n",
       "    </tr>\n",
       "    <tr>\n",
       "      <th>total_of_special_requests</th>\n",
       "      <td>-0.013192</td>\n",
       "      <td>0.048979</td>\n",
       "      <td>0.042299</td>\n",
       "      <td>0.123265</td>\n",
       "      <td>0.050311</td>\n",
       "      <td>0.083633</td>\n",
       "      <td>0.057232</td>\n",
       "      <td>0.054457</td>\n",
       "      <td>0.065077</td>\n",
       "      <td>-0.033212</td>\n",
       "      <td>0.163211</td>\n",
       "      <td>0.081837</td>\n",
       "      <td>1.000000</td>\n",
       "    </tr>\n",
       "  </tbody>\n",
       "</table>\n",
       "</div>"
      ],
      "text/plain": [
       "                                lead_time  stays_in_weekend_nights  \\\n",
       "lead_time                        1.000000                 0.138564   \n",
       "stays_in_weekend_nights          0.138564                 1.000000   \n",
       "stays_in_week_nights             0.189551                 0.502058   \n",
       "adults                           0.139655                 0.095681   \n",
       "children                         0.006820                 0.057810   \n",
       "babies                          -0.004302                 0.019816   \n",
       "previous_cancellations          -0.054699                -0.038176   \n",
       "previous_bookings_not_canceled  -0.083386                -0.053611   \n",
       "booking_changes                  0.019462                 0.048710   \n",
       "days_in_waiting_list             0.044449                 0.008592   \n",
       "adr                             -0.014330                 0.046741   \n",
       "required_car_parking_spaces     -0.101640                -0.025371   \n",
       "total_of_special_requests       -0.013192                 0.048979   \n",
       "\n",
       "                                stays_in_week_nights    adults  children  \\\n",
       "lead_time                                   0.189551  0.139655  0.006820   \n",
       "stays_in_weekend_nights                     0.502058  0.095681  0.057810   \n",
       "stays_in_week_nights                        1.000000  0.118423  0.052241   \n",
       "adults                                      0.118423  1.000000  0.039238   \n",
       "children                                    0.052241  0.039238  1.000000   \n",
       "babies                                      0.023983  0.018717  0.025359   \n",
       "previous_cancellations                     -0.035666 -0.096678 -0.018518   \n",
       "previous_bookings_not_canceled             -0.051066 -0.138937 -0.024773   \n",
       "booking_changes                             0.076210 -0.065712  0.044342   \n",
       "days_in_waiting_list                        0.012659 -0.008489 -0.015303   \n",
       "adr                                         0.059592  0.342427  0.367300   \n",
       "required_car_parking_spaces                -0.032839  0.003493  0.038538   \n",
       "total_of_special_requests                   0.042299  0.123265  0.050311   \n",
       "\n",
       "                                  babies  previous_cancellations  \\\n",
       "lead_time                      -0.004302               -0.054699   \n",
       "stays_in_weekend_nights         0.019816               -0.038176   \n",
       "stays_in_week_nights            0.023983               -0.035666   \n",
       "adults                          0.018717               -0.096678   \n",
       "children                        0.025359               -0.018518   \n",
       "babies                          1.000000               -0.003428   \n",
       "previous_cancellations         -0.003428                1.000000   \n",
       "previous_bookings_not_canceled -0.006508                0.768935   \n",
       "booking_changes                 0.098262                0.004195   \n",
       "days_in_waiting_list           -0.002294               -0.003134   \n",
       "adr                             0.020952               -0.065020   \n",
       "required_car_parking_spaces     0.049393                0.029423   \n",
       "total_of_special_requests       0.083633                0.057232   \n",
       "\n",
       "                                previous_bookings_not_canceled  \\\n",
       "lead_time                                            -0.083386   \n",
       "stays_in_weekend_nights                              -0.053611   \n",
       "stays_in_week_nights                                 -0.051066   \n",
       "adults                                               -0.138937   \n",
       "children                                             -0.024773   \n",
       "babies                                               -0.006508   \n",
       "previous_cancellations                                0.768935   \n",
       "previous_bookings_not_canceled                        1.000000   \n",
       "booking_changes                                       0.008783   \n",
       "days_in_waiting_list                                 -0.003068   \n",
       "adr                                                  -0.088479   \n",
       "required_car_parking_spaces                           0.070404   \n",
       "total_of_special_requests                             0.054457   \n",
       "\n",
       "                                booking_changes  days_in_waiting_list  \\\n",
       "lead_time                              0.019462              0.044449   \n",
       "stays_in_weekend_nights                0.048710              0.008592   \n",
       "stays_in_week_nights                   0.076210              0.012659   \n",
       "adults                                -0.065712             -0.008489   \n",
       "children                               0.044342             -0.015303   \n",
       "babies                                 0.098262             -0.002294   \n",
       "previous_cancellations                 0.004195             -0.003134   \n",
       "previous_bookings_not_canceled         0.008783             -0.003068   \n",
       "booking_changes                        1.000000              0.020685   \n",
       "days_in_waiting_list                   0.020685              1.000000   \n",
       "adr                                    0.021067             -0.029235   \n",
       "required_car_parking_spaces            0.069957              0.020695   \n",
       "total_of_special_requests              0.065077             -0.033212   \n",
       "\n",
       "                                     adr  required_car_parking_spaces  \\\n",
       "lead_time                      -0.014330                    -0.101640   \n",
       "stays_in_weekend_nights         0.046741                    -0.025371   \n",
       "stays_in_week_nights            0.059592                    -0.032839   \n",
       "adults                          0.342427                     0.003493   \n",
       "children                        0.367300                     0.038538   \n",
       "babies                          0.020952                     0.049393   \n",
       "previous_cancellations         -0.065020                     0.029423   \n",
       "previous_bookings_not_canceled -0.088479                     0.070404   \n",
       "booking_changes                 0.021067                     0.069957   \n",
       "days_in_waiting_list           -0.029235                     0.020695   \n",
       "adr                             1.000000                     0.041886   \n",
       "required_car_parking_spaces     0.041886                     1.000000   \n",
       "total_of_special_requests       0.163211                     0.081837   \n",
       "\n",
       "                                total_of_special_requests  \n",
       "lead_time                                       -0.013192  \n",
       "stays_in_weekend_nights                          0.048979  \n",
       "stays_in_week_nights                             0.042299  \n",
       "adults                                           0.123265  \n",
       "children                                         0.050311  \n",
       "babies                                           0.083633  \n",
       "previous_cancellations                           0.057232  \n",
       "previous_bookings_not_canceled                   0.054457  \n",
       "booking_changes                                  0.065077  \n",
       "days_in_waiting_list                            -0.033212  \n",
       "adr                                              0.163211  \n",
       "required_car_parking_spaces                      0.081837  \n",
       "total_of_special_requests                        1.000000  "
      ]
     },
     "execution_count": 7,
     "metadata": {},
     "output_type": "execute_result"
    }
   ],
   "source": [
    "correlations_table = cols_corr.corr()\n",
    "correlations_table"
   ]
  },
  {
   "cell_type": "markdown",
   "metadata": {},
   "source": [
    "# Point Biserial Correlation with Is_Canceled Column (fix format)"
   ]
  },
  {
   "cell_type": "markdown",
   "metadata": {},
   "source": [
    "Point Biserial Correlation: Outputs a correlation coefficient and p-value of one continous variable and one binary variable.\n",
    "\n",
    "Since our focus is on cancellations, let's explore correlations using a Point Biserial Correlation. Below we see that there is no correlation that exists between lead time,is_repeated_guest, previous_cancellations, ADR for canceled and not canceled bookings. "
   ]
  },
  {
   "cell_type": "code",
   "execution_count": 40,
   "metadata": {},
   "outputs": [
    {
     "name": "stdout",
     "output_type": "stream",
     "text": [
      "\n",
      "lead_time:\n",
      "PointbiserialrResult(correlation=0.2931233557607158, pvalue=0.0)\n",
      "\n",
      "is_repeated_guest:\n",
      "PointbiserialrResult(correlation=-0.0847934183570871, pvalue=2.3127064757788545e-189)\n",
      "\n",
      "previous_cancellations\n",
      "PointbiserialrResult(correlation=0.11013280822284356, pvalue=8.9327e-319)\n",
      "\n",
      "adr:\n",
      "PointbiserialrResult(correlation=0.04755659788038595, pvalue=9.68293417989299e-61)\n",
      "\n",
      "booking_changes:\n",
      "PointbiserialrResult(correlation=-0.14438099106132388, pvalue=0.0)\n"
     ]
    }
   ],
   "source": [
    "print('\\nlead_time:')\n",
    "print(scipy.stats.pointbiserialr(is_canceled, lead_time))\n",
    "print('\\nis_repeated_guest:')\n",
    "print(scipy.stats.pointbiserialr(is_canceled, is_repeated_guest))\n",
    "print('\\nprevious_cancellations')\n",
    "print(scipy.stats.pointbiserialr(is_canceled,previous_cancellations))\n",
    "print('\\nadr:')\n",
    "print(scipy.stats.pointbiserialr(is_canceled, adr))\n",
    "print('\\nbooking_changes:')\n",
    "print(scipy.stats.pointbiserialr(is_canceled, booking_changes))\n"
   ]
  },
  {
   "cell_type": "markdown",
   "metadata": {},
   "source": [
    "# % of Bookings Canceled and Not Canceled with Bar Plot"
   ]
  },
  {
   "cell_type": "markdown",
   "metadata": {},
   "source": [
    "There was a significantly high number of canceled bookings in the year 2017. 38.75% of bookings were canceled and 61.25% of the bookings were not canceled."
   ]
  },
  {
   "cell_type": "code",
   "execution_count": 9,
   "metadata": {},
   "outputs": [
    {
     "name": "stdout",
     "output_type": "stream",
     "text": [
      "0    24870\n",
      "1    15734\n",
      "Name: is_canceled, dtype: int64\n",
      "Percent Not Cancelled: 61.25012314057729\n",
      "Percent Cancelled: 38.74987685942271\n"
     ]
    },
    {
     "data": {
      "image/png": "[encoded data removed]",
      "text/plain": [
       "<Figure size 432x288 with 1 Axes>"
      ]
     },
     "metadata": {
      "needs_background": "light"
     },
     "output_type": "display_data"
    }
   ],
   "source": [
    "colors = ['#1f77b4', '#ff7f0e']\n",
    "df.is_canceled.value_counts().plot(kind='bar', color=colors)  \n",
    "\n",
    "\n",
    "print(df.is_canceled.value_counts())\n",
    "\n",
    "sum_1_0 = df[df.is_canceled==0].is_canceled.count() + df[df.is_canceled==1].is_canceled.count()\n",
    "\n",
    "zero =df[df.is_canceled==0].is_canceled.count()/sum_1_0*100\n",
    "one = df[df.is_canceled==1].is_canceled.count()/sum_1_0*100\n",
    "\n",
    "plt.xticks(rotation=0)\n",
    "print('Percent Not Cancelled:', zero)\n",
    "print('Percent Cancelled:', one)\n"
   ]
  },
  {
   "cell_type": "markdown",
   "metadata": {},
   "source": [
    "# Canceled and Not Canceled Bookings Average Daily Rate"
   ]
  },
  {
   "cell_type": "markdown",
   "metadata": {},
   "source": [
    "The average daily rate for 2017 was lower for canceled bookings and hgiher for bookings that were not canceled."
   ]
  },
  {
   "cell_type": "code",
   "execution_count": 10,
   "metadata": {},
   "outputs": [
    {
     "data": {
      "text/plain": [
       "(array([0, 1]), [Text(0, 0, '0'), Text(1, 0, '1')])"
      ]
     },
     "execution_count": 10,
     "metadata": {},
     "output_type": "execute_result"
    },
    {
     "data": {
      "image/png": "[encoded data removed]",
      "text/plain": [
       "<Figure size 1080x432 with 1 Axes>"
      ]
     },
     "metadata": {},
     "output_type": "display_data"
    }
   ],
   "source": [
    "\n",
    "colors = ['#d62728', '#d62728']\n",
    "sns.set_style('darkgrid')\n",
    "#df['year'] = df['date'].dt.year\n",
    "df.is_canceled.value_counts().plot(kind = 'bar',figsize=(15,6), color=colors)\n",
    " \n",
    "\n",
    "# Aesthetics\n",
    "plt.title(\"Is Canceled Counts for 2017 \")\n",
    "plt.xlabel(\"Not Canceled/Canceled\")\n",
    "plt.ylabel(\"Count\")\n",
    "plt.xticks(rotation=0)"
   ]
  },
  {
   "cell_type": "markdown",
   "metadata": {},
   "source": [
    "# Canceled/Not Canceled Bookings Median Lead time"
   ]
  },
  {
   "cell_type": "markdown",
   "metadata": {},
   "source": [
    "50% of the bookings in 2017 that were canceled, were booked 116 days prior to their arrival date. Canceled bookings had a very high lead time compared to bookings that were not canceled. A Mann-Whitney U Test in another notebook will further explore this data. "
   ]
  },
  {
   "cell_type": "markdown",
   "metadata": {},
   "source": [
    "Insight drawn: The farther out a booking is made relative to the bookings arrival date the more likely it is that booking may be canceled, and the closer a booking is made relative to the bookings arrival date, the less likelihood that booking will be canceled. Further statistical tests are needed to confirm this insight, see MannWhitneyU_test_HotelBookingAnalysis notebook for further analysis."
   ]
  },
  {
   "cell_type": "code",
   "execution_count": 11,
   "metadata": {},
   "outputs": [
    {
     "name": "stdout",
     "output_type": "stream",
     "text": [
      "Canceled Bookings Median Lead Time: 116.0\n",
      "Non Canceled Bookings Median Lead Time: 57.0\n"
     ]
    },
    {
     "data": {
      "image/png": "[encoded data removed]",
      "text/plain": [
       "<Figure size 1080x432 with 1 Axes>"
      ]
     },
     "metadata": {},
     "output_type": "display_data"
    }
   ],
   "source": [
    "#median lead time cancellation chart 0,1 for all years \n",
    "colors = ['#d62728','#9467bd']\n",
    "sns.set_style('darkgrid')\n",
    "ax = df.groupby('is_canceled').lead_time.median()\n",
    "ax.plot(kind='bar', figsize=(15,6), color=colors)\n",
    "\n",
    "\n",
    "# Aesthetics\n",
    "plt.title(\"Median Lead Time Canceled/Not Canceled Bookings\")\n",
    "plt.xlabel(\"Is Canceled\")\n",
    "plt.ylabel(\"Lead Time\")\n",
    "plt.xticks(rotation=0)\n",
    "print('Canceled Bookings Median Lead Time:', df[df.is_canceled==1].lead_time.median())\n",
    "print('Non Canceled Bookings Median Lead Time:', df[df.is_canceled==0].lead_time.median())\n"
   ]
  },
  {
   "cell_type": "markdown",
   "metadata": {},
   "source": [
    "# Average Lead Time of Canceled/Not Canceled Bookings"
   ]
  },
  {
   "cell_type": "markdown",
   "metadata": {},
   "source": [
    "On average the number of bookings that were canceled were booked 139 days in advance to their arrival date. Non canceled bookings were booked on average, 90 days in advance to its arrival date."
   ]
  },
  {
   "cell_type": "code",
   "execution_count": 12,
   "metadata": {},
   "outputs": [
    {
     "name": "stdout",
     "output_type": "stream",
     "text": [
      "Canceled Bookings Mean Lead Time: 139.11827888648787\n",
      "Non Canceled Bookings Mean Lead Time: 90.6875753920386\n"
     ]
    },
    {
     "data": {
      "image/png": "[encoded data removed]",
      "text/plain": [
       "<Figure size 1440x720 with 1 Axes>"
      ]
     },
     "metadata": {},
     "output_type": "display_data"
    }
   ],
   "source": [
    "colors = ['#501500','#ff7f50']\n",
    "sns.set_style('darkgrid')\n",
    "ax = df.groupby('is_canceled').lead_time.mean()\n",
    "fig = ax.plot(kind='bar', figsize=(20,10), color=colors)\n",
    "fig\n",
    "\n",
    "# Aesthetics\n",
    "plt.title(\"Mean Lead Time of Canceled/Not Canceled Bookings\")\n",
    "plt.xlabel(\"Is Canceled\")\n",
    "plt.ylabel(\"Lead Time\")\n",
    "plt.xticks(rotation=0, horizontalalignment=\"center\")\n",
    "print('Canceled Bookings Mean Lead Time:', df[df.is_canceled==1].lead_time.mean())\n",
    "print('Non Canceled Bookings Mean Lead Time:', df[df.is_canceled==0].lead_time.mean())"
   ]
  },
  {
   "cell_type": "markdown",
   "metadata": {},
   "source": [
    "# Mean ADR of Canceled/Not Canceled Bookings"
   ]
  },
  {
   "cell_type": "markdown",
   "metadata": {},
   "source": [
    "The difference in cost of average daily rate was $8.47. Further tests need to be conducted to determine if this is statistically significant. Canceled bookings had a higher average daily rate than non canceled bookings. Check Ztest_compare_means_HotelBookingAnalysis.ipynb notebook for further analysis. \n",
    "\n"
   ]
  },
  {
   "cell_type": "code",
   "execution_count": 13,
   "metadata": {},
   "outputs": [
    {
     "name": "stdout",
     "output_type": "stream",
     "text": [
      "Average ADR for Not Canceled Bookings 111.49480498592872\n",
      "Average ADR for Canceled Bookings 119.96701792297321\n"
     ]
    },
    {
     "data": {
      "image/png": "[encoded data removed]",
      "text/plain": [
       "<Figure size 1440x720 with 1 Axes>"
      ]
     },
     "metadata": {},
     "output_type": "display_data"
    }
   ],
   "source": [
    "colors = ['#00c400','#e6e600']\n",
    "sns.set_style('darkgrid')\n",
    "ax = df.groupby('is_canceled').adr.mean()\n",
    "fig = ax.plot(kind='barh', figsize=(20,10), color=colors)\n",
    "fig\n",
    "\n",
    "# Aesthetics\n",
    "\n",
    "plt.title(\"Mean ADR of Canceled/Not Canceled Bookings\")\n",
    "plt.xlabel(\"Is Canceled\")\n",
    "plt.ylabel(\"ADR\")\n",
    "plt.xticks(rotation=0, horizontalalignment=\"center\")\n",
    "\n",
    "print('Average ADR for Not Canceled Bookings',df[df.is_canceled==0].adr.mean())\n",
    "print('Average ADR for Canceled Bookings',df[df.is_canceled==1].adr.mean())\n"
   ]
  },
  {
   "cell_type": "markdown",
   "metadata": {},
   "source": [
    "# Canceled/Not Canceled Bookings Median Average Daily Rate"
   ]
  },
  {
   "cell_type": "markdown",
   "metadata": {},
   "source": [
    "The median average daily rate for canceled bookings was higher (110.0) than non canceled bookings (104.0)"
   ]
  },
  {
   "cell_type": "code",
   "execution_count": 14,
   "metadata": {},
   "outputs": [
    {
     "name": "stdout",
     "output_type": "stream",
     "text": [
      "Median ADR for Not Canceled Bookings 104.0\n",
      "Median ADR for Canceled Bookings 110.0\n"
     ]
    },
    {
     "data": {
      "image/png": "[encoded data removed]",
      "text/plain": [
       "<Figure size 1440x720 with 1 Axes>"
      ]
     },
     "metadata": {},
     "output_type": "display_data"
    }
   ],
   "source": [
    "colors = ['#00c400','#e6e600']\n",
    "sns.set_style('darkgrid')\n",
    "ax = df.groupby('is_canceled').adr.median()\n",
    "fig = ax.plot(kind='barh', figsize=(20,10), color=colors)\n",
    "fig\n",
    "\n",
    "# Aesthetics\n",
    "\n",
    "plt.title(\"Median ADR of Canceled/Not Canceled Bookings\")\n",
    "plt.xlabel(\"Is Canceled\")\n",
    "plt.ylabel(\"ADR\")\n",
    "plt.xticks(rotation=0, horizontalalignment=\"center\")\n",
    "\n",
    "print('Median ADR for Not Canceled Bookings',df[df.is_canceled==0].adr.median())\n",
    "print('Median ADR for Canceled Bookings',df[df.is_canceled==1].adr.median())"
   ]
  },
  {
   "cell_type": "markdown",
   "metadata": {},
   "source": [
    "# Canceled/Not Canceled Bookings Count Over Time"
   ]
  },
  {
   "cell_type": "markdown",
   "metadata": {},
   "source": [
    "Canceled bookings and non canceled bookings were at the lowest in the beginning of the year, and peaked in May. We can see that cancellations were increasing from March to April 2017, however the number of non canceled bookings were decreasing. \n",
    "\n",
    "From June to July 2017, we can see the opposite, where the number of bookings cancled decreased while the number of non canceled bookings increased. "
   ]
  },
  {
   "cell_type": "code",
   "execution_count": 15,
   "metadata": {},
   "outputs": [
    {
     "data": {
      "image/png": "[encoded data removed]",
      "text/plain": [
       "<Figure size 1080x720 with 1 Axes>"
      ]
     },
     "metadata": {},
     "output_type": "display_data"
    }
   ],
   "source": [
    "from matplotlib import rcParams\n",
    "rcParams['figure.figsize']= 20,6\n",
    "\n",
    "df['year_month'] =pd.to_datetime(df.arrival_date_year.astype(str) + df.arrival_date_month.astype(str), format='%Y%B')\n",
    "year_month = df['year_month']\n",
    "df[df.is_canceled == 0].year_month.value_counts().plot(kind='line', figsize=(15,10),  label = 'is_canceled 0')\n",
    "df[df.is_canceled == 1].year_month.value_counts().plot(kind='line', figsize=(15,10),  label = 'is_canceled 1')\n",
    "plt.legend()\n",
    "plt.show()"
   ]
  },
  {
   "cell_type": "markdown",
   "metadata": {},
   "source": [
    "# Not Canceled Count of Stays In Week Nights"
   ]
  },
  {
   "cell_type": "markdown",
   "metadata": {},
   "source": [
    "For weekday nights, 1, 2 and 3 weekday stays had the highest number of non cancellations"
   ]
  },
  {
   "cell_type": "code",
   "execution_count": 16,
   "metadata": {},
   "outputs": [
    {
     "data": {
      "text/plain": [
       "(array([ 0,  1,  2,  3,  4,  5,  6,  7,  8,  9, 10, 11, 12, 13, 14, 15, 16,\n",
       "        17, 18, 19, 20, 21, 22, 23, 24, 25]),\n",
       " [Text(0, 0, '1'),\n",
       "  Text(1, 0, '2'),\n",
       "  Text(2, 0, '3'),\n",
       "  Text(3, 0, '5'),\n",
       "  Text(4, 0, '4'),\n",
       "  Text(5, 0, '0'),\n",
       "  Text(6, 0, '6'),\n",
       "  Text(7, 0, '10'),\n",
       "  Text(8, 0, '7'),\n",
       "  Text(9, 0, '8'),\n",
       "  Text(10, 0, '9'),\n",
       "  Text(11, 0, '15'),\n",
       "  Text(12, 0, '19'),\n",
       "  Text(13, 0, '12'),\n",
       "  Text(14, 0, '11'),\n",
       "  Text(15, 0, '20'),\n",
       "  Text(16, 0, '13'),\n",
       "  Text(17, 0, '16'),\n",
       "  Text(18, 0, '30'),\n",
       "  Text(19, 0, '25'),\n",
       "  Text(20, 0, '21'),\n",
       "  Text(21, 0, '14'),\n",
       "  Text(22, 0, '40'),\n",
       "  Text(23, 0, '26'),\n",
       "  Text(24, 0, '17'),\n",
       "  Text(25, 0, '32')])"
      ]
     },
     "execution_count": 16,
     "metadata": {},
     "output_type": "execute_result"
    },
    {
     "data": {
      "image/png": "[encoded data removed]",
      "text/plain": [
       "<Figure size 1080x432 with 1 Axes>"
      ]
     },
     "metadata": {},
     "output_type": "display_data"
    }
   ],
   "source": [
    "df_notcanceled=df[df.is_canceled==0] #filter dataset for only bookings not canceled\n",
    "df_canceled=df[df.is_canceled==0] #filter dataset for only bookings canceled\n",
    "\n",
    "\n",
    "df_notcanceled['stays_in_week_nights'].value_counts().plot(kind='bar',figsize=(15,6), color ='#FF4500')\n",
    "\n",
    "# Aesthetics\n",
    "plt.title(\"Not Canceled Count of Stays In Week Nights\")\n",
    "plt.xlabel(\"Number of Days Stays in Week Nights\")\n",
    "plt.ylabel(\"Count\")\n",
    "plt.xticks(rotation=0)"
   ]
  },
  {
   "cell_type": "markdown",
   "metadata": {},
   "source": [
    "# Canceled Count of Stays In Week Nights"
   ]
  },
  {
   "cell_type": "markdown",
   "metadata": {},
   "source": [
    "For weekday nights, 1, 2 weekday stays had the highest number of cancellations"
   ]
  },
  {
   "cell_type": "code",
   "execution_count": 17,
   "metadata": {},
   "outputs": [
    {
     "data": {
      "text/plain": [
       "(array([ 0,  1,  2,  3,  4,  5,  6,  7,  8,  9, 10, 11, 12, 13, 14, 15, 16,\n",
       "        17, 18, 19, 20, 21, 22, 23, 24, 25]),\n",
       " [Text(0, 0, '1'),\n",
       "  Text(1, 0, '2'),\n",
       "  Text(2, 0, '3'),\n",
       "  Text(3, 0, '5'),\n",
       "  Text(4, 0, '4'),\n",
       "  Text(5, 0, '0'),\n",
       "  Text(6, 0, '6'),\n",
       "  Text(7, 0, '10'),\n",
       "  Text(8, 0, '7'),\n",
       "  Text(9, 0, '8'),\n",
       "  Text(10, 0, '9'),\n",
       "  Text(11, 0, '15'),\n",
       "  Text(12, 0, '19'),\n",
       "  Text(13, 0, '12'),\n",
       "  Text(14, 0, '11'),\n",
       "  Text(15, 0, '20'),\n",
       "  Text(16, 0, '13'),\n",
       "  Text(17, 0, '16'),\n",
       "  Text(18, 0, '30'),\n",
       "  Text(19, 0, '25'),\n",
       "  Text(20, 0, '21'),\n",
       "  Text(21, 0, '14'),\n",
       "  Text(22, 0, '40'),\n",
       "  Text(23, 0, '26'),\n",
       "  Text(24, 0, '17'),\n",
       "  Text(25, 0, '32')])"
      ]
     },
     "execution_count": 17,
     "metadata": {},
     "output_type": "execute_result"
    },
    {
     "data": {
      "image/png": "[encoded data removed]",
      "text/plain": [
       "<Figure size 1080x432 with 1 Axes>"
      ]
     },
     "metadata": {},
     "output_type": "display_data"
    }
   ],
   "source": [
    "df_canceled['stays_in_week_nights'].value_counts().plot(kind='bar',figsize=(15,6),color ='#FF4500')\n",
    "\n",
    "# Aesthetics\n",
    "plt.title(\"Canceled Count of Stays In Week Nights\")\n",
    "plt.xlabel(\"Number of Days Stays in Week Nights\")\n",
    "plt.ylabel(\"Count\")\n",
    "plt.xticks(rotation=0)"
   ]
  },
  {
   "cell_type": "markdown",
   "metadata": {},
   "source": [
    "# Not Canceled Count of Stays In Weekend Nights"
   ]
  },
  {
   "cell_type": "markdown",
   "metadata": {},
   "source": [
    "For not canceled bookings, 0 nights stayed in weekend nights had the highest count"
   ]
  },
  {
   "cell_type": "code",
   "execution_count": 18,
   "metadata": {},
   "outputs": [
    {
     "data": {
      "text/plain": [
       "(array([ 0,  1,  2,  3,  4,  5,  6,  7,  8,  9, 10, 11, 12]),\n",
       " [Text(0, 0, '0'),\n",
       "  Text(1, 0, '2'),\n",
       "  Text(2, 0, '1'),\n",
       "  Text(3, 0, '4'),\n",
       "  Text(4, 0, '3'),\n",
       "  Text(5, 0, '6'),\n",
       "  Text(6, 0, '8'),\n",
       "  Text(7, 0, '5'),\n",
       "  Text(8, 0, '12'),\n",
       "  Text(9, 0, '10'),\n",
       "  Text(10, 0, '13'),\n",
       "  Text(11, 0, '9'),\n",
       "  Text(12, 0, '16')])"
      ]
     },
     "execution_count": 18,
     "metadata": {},
     "output_type": "execute_result"
    },
    {
     "data": {
      "image/png": "[encoded data removed]",
      "text/plain": [
       "<Figure size 1080x432 with 1 Axes>"
      ]
     },
     "metadata": {},
     "output_type": "display_data"
    }
   ],
   "source": [
    "df_notcanceled['stays_in_weekend_nights'].value_counts().plot(kind='bar',figsize=(15,6), color ='#FF4500')\n",
    "\n",
    "# Aesthetics\n",
    "plt.title(\"Not Canceled Count of Stays In Weekend Nights\")\n",
    "plt.xlabel(\"Number of Days Stays in Week Nights\")\n",
    "plt.ylabel(\"Count\")\n",
    "plt.xticks(rotation=0)"
   ]
  },
  {
   "cell_type": "markdown",
   "metadata": {},
   "source": [
    "# Canceled Count of Stays In Weekend Nights"
   ]
  },
  {
   "cell_type": "markdown",
   "metadata": {},
   "source": [
    "For canceled bookings, 0 weekend nights had the highest count"
   ]
  },
  {
   "cell_type": "code",
   "execution_count": 19,
   "metadata": {},
   "outputs": [
    {
     "data": {
      "text/plain": [
       "(array([ 0,  1,  2,  3,  4,  5,  6,  7,  8,  9, 10, 11, 12]),\n",
       " [Text(0, 0, '0'),\n",
       "  Text(1, 0, '2'),\n",
       "  Text(2, 0, '1'),\n",
       "  Text(3, 0, '4'),\n",
       "  Text(4, 0, '3'),\n",
       "  Text(5, 0, '6'),\n",
       "  Text(6, 0, '8'),\n",
       "  Text(7, 0, '5'),\n",
       "  Text(8, 0, '12'),\n",
       "  Text(9, 0, '10'),\n",
       "  Text(10, 0, '13'),\n",
       "  Text(11, 0, '9'),\n",
       "  Text(12, 0, '16')])"
      ]
     },
     "execution_count": 19,
     "metadata": {},
     "output_type": "execute_result"
    },
    {
     "data": {
      "image/png": "[encoded data removed]",
      "text/plain": [
       "<Figure size 1080x432 with 1 Axes>"
      ]
     },
     "metadata": {},
     "output_type": "display_data"
    }
   ],
   "source": [
    "\n",
    "df_canceled['stays_in_weekend_nights'].value_counts().plot(kind='bar',figsize=(15,6), color ='#FF4500')\n",
    "\n",
    "# Aesthetics\n",
    "plt.title(\"Not Canceled Count of Stays In Weekend Nights\")\n",
    "plt.xlabel(\"Number of Days Stays in Week Nights\")\n",
    "plt.ylabel(\"Count\")\n",
    "plt.xticks(rotation=0)\n"
   ]
  },
  {
   "cell_type": "markdown",
   "metadata": {},
   "source": [
    "# Insight Drawn:"
   ]
  },
  {
   "cell_type": "markdown",
   "metadata": {},
   "source": [
    "Cancellations was the highest over weekdays (amongst only 1-2 days) which indicates short term travelers whom have their bookings during the week are more likely to cancel their bookings rather than weekend stays. Further analysis is needed to confirm this insight"
   ]
  },
  {
   "cell_type": "markdown",
   "metadata": {},
   "source": [
    "# Cancellations By Hotel Type"
   ]
  },
  {
   "cell_type": "markdown",
   "metadata": {},
   "source": [
    "City Hotels had the highest number of cancellations compared to Resort Hotels in 2017"
   ]
  },
  {
   "cell_type": "code",
   "execution_count": 20,
   "metadata": {},
   "outputs": [
    {
     "data": {
      "text/plain": [
       "(array([    0.,  2000.,  4000.,  6000.,  8000., 10000., 12000., 14000.,\n",
       "        16000., 18000.]),\n",
       " [Text(0, 0, ''),\n",
       "  Text(0, 0, ''),\n",
       "  Text(0, 0, ''),\n",
       "  Text(0, 0, ''),\n",
       "  Text(0, 0, ''),\n",
       "  Text(0, 0, ''),\n",
       "  Text(0, 0, ''),\n",
       "  Text(0, 0, ''),\n",
       "  Text(0, 0, ''),\n",
       "  Text(0, 0, '')])"
      ]
     },
     "execution_count": 20,
     "metadata": {},
     "output_type": "execute_result"
    },
    {
     "data": {
      "image/png": "[encoded data removed]",
      "text/plain": [
       "<Figure size 1080x864 with 1 Axes>"
      ]
     },
     "metadata": {},
     "output_type": "display_data"
    }
   ],
   "source": [
    "\n",
    "df_canceled['hotel'].value_counts().plot(kind='barh',figsize=(15,12), color ='#FFA000')\n",
    "\n",
    "# Aesthetics\n",
    "plt.title(\"Canceled Bookings By Hotel Type\")\n",
    "plt.xlabel(\"Count\")\n",
    "plt.ylabel(\"Hotel Type\")\n",
    "plt.xticks(rotation=0)\n"
   ]
  },
  {
   "cell_type": "markdown",
   "metadata": {},
   "source": [
    "# Booking Customer Type for Cancelations"
   ]
  },
  {
   "cell_type": "markdown",
   "metadata": {},
   "source": [
    "Transient booking types had the highest number of cancellations in 2017. "
   ]
  },
  {
   "cell_type": "code",
   "execution_count": 21,
   "metadata": {},
   "outputs": [
    {
     "data": {
      "text/plain": [
       "(array([    0.,  2500.,  5000.,  7500., 10000., 12500., 15000., 17500.,\n",
       "        20000., 22500.]),\n",
       " [Text(0, 0, ''),\n",
       "  Text(0, 0, ''),\n",
       "  Text(0, 0, ''),\n",
       "  Text(0, 0, ''),\n",
       "  Text(0, 0, ''),\n",
       "  Text(0, 0, ''),\n",
       "  Text(0, 0, ''),\n",
       "  Text(0, 0, ''),\n",
       "  Text(0, 0, ''),\n",
       "  Text(0, 0, '')])"
      ]
     },
     "execution_count": 21,
     "metadata": {},
     "output_type": "execute_result"
    },
    {
     "data": {
      "image/png": "[encoded data removed]",
      "text/plain": [
       "<Figure size 1080x864 with 1 Axes>"
      ]
     },
     "metadata": {},
     "output_type": "display_data"
    }
   ],
   "source": [
    "df_canceled['customer_type'].value_counts().plot(kind='barh',figsize=(15,12), color ='#FFA000')\n",
    "\n",
    "# Aesthetics\n",
    "plt.title(\"Canceled Bookings By Hotel Type\")\n",
    "plt.xlabel(\"Count\")\n",
    "plt.ylabel(\"Hotel Type\")\n",
    "plt.xticks(rotation=0)\n"
   ]
  },
  {
   "cell_type": "markdown",
   "metadata": {},
   "source": [
    "# Which Month had the highest number of cancellations?"
   ]
  },
  {
   "cell_type": "markdown",
   "metadata": {},
   "source": [
    "Overall, May had the highest number bookings cancelled followed by April and June"
   ]
  },
  {
   "cell_type": "code",
   "execution_count": 22,
   "metadata": {},
   "outputs": [
    {
     "data": {
      "text/plain": [
       "(array([0, 1, 2, 3, 4, 5, 6, 7]),\n",
       " [Text(0, 0, '1'),\n",
       "  Text(1, 0, '2'),\n",
       "  Text(2, 0, '3'),\n",
       "  Text(3, 0, '4'),\n",
       "  Text(4, 0, '5'),\n",
       "  Text(5, 0, '6'),\n",
       "  Text(6, 0, '7'),\n",
       "  Text(7, 0, '8')])"
      ]
     },
     "execution_count": 22,
     "metadata": {},
     "output_type": "execute_result"
    },
    {
     "data": {
      "image/png": "[encoded data removed]",
      "text/plain": [
       "<Figure size 1080x432 with 1 Axes>"
      ]
     },
     "metadata": {},
     "output_type": "display_data"
    }
   ],
   "source": [
    "df['month']= df['date'].dt.month\n",
    "\n",
    "colors = ['#6578C6', '#1f77b4', '#d62728', '#BCD32F', '#34D8E7',\n",
    "          '#791EF4', '#D55BE0', '#FFAFCE', '#FFC500', '#FF4700', '#076874', '#A4A8AE']\n",
    "sns.set_style('darkgrid')\n",
    "\n",
    "df.groupby('month').is_canceled.count().plot(kind = 'bar',figsize=(15,6), color=colors)\n",
    " \n",
    "\n",
    "# Aesthetics\n",
    "plt.title(\"Is Canceled Counts Per Month \")\n",
    "plt.xlabel(\"Month #\")\n",
    "plt.ylabel(\"Count\")\n",
    "plt.xticks(rotation=0)\n"
   ]
  },
  {
   "cell_type": "code",
   "execution_count": null,
   "metadata": {},
   "outputs": [],
   "source": []
  },
  {
   "cell_type": "code",
   "execution_count": 23,
   "metadata": {},
   "outputs": [],
   "source": [
    "#do an analysis per day\n",
    "#market_segment\tdistribution_channel"
   ]
  },
  {
   "cell_type": "markdown",
   "metadata": {},
   "source": [
    "# Canceled Bookings By Market Segment\n"
   ]
  },
  {
   "cell_type": "markdown",
   "metadata": {},
   "source": [
    "We can see that online travel agents had the highest cancellations amongst all other market segments. Although we learned earlier that shot term travelers who had their bookings on weekdays cancelled their bookings at higher counts, corporates were 5th on the list."
   ]
  },
  {
   "cell_type": "code",
   "execution_count": 24,
   "metadata": {},
   "outputs": [
    {
     "data": {
      "text/plain": [
       "(array([    0.,  2000.,  4000.,  6000.,  8000., 10000., 12000., 14000.,\n",
       "        16000.]),\n",
       " [Text(0, 0, ''),\n",
       "  Text(0, 0, ''),\n",
       "  Text(0, 0, ''),\n",
       "  Text(0, 0, ''),\n",
       "  Text(0, 0, ''),\n",
       "  Text(0, 0, ''),\n",
       "  Text(0, 0, ''),\n",
       "  Text(0, 0, ''),\n",
       "  Text(0, 0, '')])"
      ]
     },
     "execution_count": 24,
     "metadata": {},
     "output_type": "execute_result"
    },
    {
     "data": {
      "image/png": "[encoded data removed]",
      "text/plain": [
       "<Figure size 1080x864 with 1 Axes>"
      ]
     },
     "metadata": {},
     "output_type": "display_data"
    }
   ],
   "source": [
    "df_canceled['market_segment'].value_counts().plot(kind='barh',figsize=(15,12), color ='#B58AF0')\n",
    "\n",
    "# Aesthetics\n",
    "plt.title(\"Canceled Bookings By Market Segment\")\n",
    "plt.xlabel(\"Count\")\n",
    "plt.ylabel(\"Market Segment\")\n",
    "plt.xticks(rotation=0)"
   ]
  },
  {
   "cell_type": "code",
   "execution_count": null,
   "metadata": {},
   "outputs": [],
   "source": []
  },
  {
   "cell_type": "code",
   "execution_count": null,
   "metadata": {},
   "outputs": [],
   "source": [
    "\n"
   ]
  },
  {
   "cell_type": "code",
   "execution_count": null,
   "metadata": {},
   "outputs": [],
   "source": []
  }
 ],
 "metadata": {
  "kernelspec": {
   "display_name": "Python 3",
   "language": "python",
   "name": "python3"
  },
  "language_info": {
   "codemirror_mode": {
    "name": "ipython",
    "version": 3
   },
   "file_extension": ".py",
   "mimetype": "text/x-python",
   "name": "python",
   "nbconvert_exporter": "python",
   "pygments_lexer": "ipython3",
   "version": "3.8.5"
  }
 },
 "nbformat": 4,
 "nbformat_minor": 4
}
